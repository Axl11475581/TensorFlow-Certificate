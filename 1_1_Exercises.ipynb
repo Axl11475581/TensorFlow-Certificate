{
  "nbformat": 4,
  "nbformat_minor": 0,
  "metadata": {
    "colab": {
      "name": "1.1 - Exercises.ipynb",
      "provenance": [],
      "authorship_tag": "ABX9TyO8J4yxdiB9+zDHDK1YsRW/",
      "include_colab_link": true
    },
    "kernelspec": {
      "name": "python3",
      "display_name": "Python 3"
    },
    "language_info": {
      "name": "python"
    }
  },
  "cells": [
    {
      "cell_type": "markdown",
      "metadata": {
        "id": "view-in-github",
        "colab_type": "text"
      },
      "source": [
        "<a href=\"https://colab.research.google.com/github/Axl11475581/TensorFlow-Certificate/blob/main/1_1_Exercises.ipynb\" target=\"_parent\"><img src=\"https://colab.research.google.com/assets/colab-badge.svg\" alt=\"Open In Colab\"/></a>"
      ]
    },
    {
      "cell_type": "markdown",
      "metadata": {
        "id": "vHKDTDs4eAyR"
      },
      "source": [
        "## In this notebook the exercises from the **1.0 - N.N/Regression** will be cover."
      ]
    },
    {
      "cell_type": "code",
      "metadata": {
        "id": "twVdIb_OePdM"
      },
      "source": [
        ""
      ],
      "execution_count": null,
      "outputs": []
    }
  ]
}