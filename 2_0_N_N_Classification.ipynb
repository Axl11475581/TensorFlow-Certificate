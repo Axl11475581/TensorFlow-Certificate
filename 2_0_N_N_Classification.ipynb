{
  "nbformat": 4,
  "nbformat_minor": 0,
  "metadata": {
    "colab": {
      "name": "2.0 - N.N/Classification.ipynb",
      "provenance": [],
      "collapsed_sections": [],
      "authorship_tag": "ABX9TyNrQyKRnrQM0QIRJeit+hxo",
      "include_colab_link": true
    },
    "kernelspec": {
      "name": "python3",
      "display_name": "Python 3"
    },
    "language_info": {
      "name": "python"
    }
  },
  "cells": [
    {
      "cell_type": "markdown",
      "metadata": {
        "id": "view-in-github",
        "colab_type": "text"
      },
      "source": [
        "<a href=\"https://colab.research.google.com/github/Axl11475581/TensorFlow-Certificate/blob/main/2_0_N_N_Classification.ipynb\" target=\"_parent\"><img src=\"https://colab.research.google.com/assets/colab-badge.svg\" alt=\"Open In Colab\"/></a>"
      ]
    },
    {
      "cell_type": "markdown",
      "metadata": {
        "id": "j_T_M2FILKhd"
      },
      "source": [
        "# Introduction to neural network classification with TensorFlow\n",
        "\n",
        "In this notebook we're going to learn how to write neural networks for classification problems.\n",
        "\n",
        "A classification is where you try to classify something as one thing or another.\n",
        "\n",
        "Types of classification:\n",
        "\n",
        "* Binary classification\n",
        "* Multiclass classification\n",
        "* Multilabel classification\n",
        "\n"
      ]
    },
    {
      "cell_type": "code",
      "metadata": {
        "colab": {
          "base_uri": "https://localhost:8080/"
        },
        "id": "L5_voFZ8e2r9",
        "outputId": "9751ca21-b3a4-498a-c707-a15c812901bb"
      },
      "source": [
        "import tensorflow as tf\n",
        "import pandas as pd\n",
        "\n",
        "print(tf.__version__)"
      ],
      "execution_count": 1,
      "outputs": [
        {
          "output_type": "stream",
          "text": [
            "2.5.0\n"
          ],
          "name": "stdout"
        }
      ]
    }
  ]
}