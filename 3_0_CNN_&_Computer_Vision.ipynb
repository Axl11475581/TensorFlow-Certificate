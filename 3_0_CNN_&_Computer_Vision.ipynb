{
  "nbformat": 4,
  "nbformat_minor": 0,
  "metadata": {
    "colab": {
      "name": "3.0 - CNN & Computer Vision.ipynb",
      "provenance": [],
      "collapsed_sections": [],
      "authorship_tag": "ABX9TyPcWm5ZuXLcAjF1LYaYxII+",
      "include_colab_link": true
    },
    "kernelspec": {
      "name": "python3",
      "display_name": "Python 3"
    },
    "language_info": {
      "name": "python"
    },
    "accelerator": "GPU"
  },
  "cells": [
    {
      "cell_type": "markdown",
      "metadata": {
        "id": "view-in-github",
        "colab_type": "text"
      },
      "source": [
        "<a href=\"https://colab.research.google.com/github/Axl11475581/TensorFlow-Certificate/blob/main/3_0_CNN_%26_Computer_Vision.ipynb\" target=\"_parent\"><img src=\"https://colab.research.google.com/assets/colab-badge.svg\" alt=\"Open In Colab\"/></a>"
      ]
    },
    {
      "cell_type": "markdown",
      "metadata": {
        "id": "cXmcy2l7_YEf"
      },
      "source": [
        "# This is the Introduction to Convolutional Neural Networks and Computer Vision with TensorFlow\n",
        "\n",
        "Computer vision is the practice of writing algorithms which can discover patterns in visual data. Such as the camera of a self-driving car recognizing the car in front."
      ]
    },
    {
      "cell_type": "markdown",
      "metadata": {
        "id": "8_YhlC-OCrvO"
      },
      "source": [
        "## Get the data\n",
        "\n",
        "The images are from the Food101 dataset from kaggle, however they has been modified to only use two classes, pizza & steak, using the image data modification notebook."
      ]
    },
    {
      "cell_type": "code",
      "metadata": {
        "id": "DNAUK798Cw4H",
        "colab": {
          "base_uri": "https://localhost:8080/"
        },
        "outputId": "665582fc-ab2a-4298-a5de-0f3f994a0141"
      },
      "source": [
        "import zipfile\n",
        "!wget https://storage.googleapis.com/ztm_tf_course/food_vision/pizza_steak.zip\n",
        "\n",
        "# unzip the downloaded file\n",
        "zip_ref = zipfile.ZipFile(\"pizza_steak.zip\")\n",
        "zip_ref.extractall()\n",
        "zip_ref.close()"
      ],
      "execution_count": 47,
      "outputs": [
        {
          "output_type": "stream",
          "text": [
            "--2021-06-12 13:54:04--  https://storage.googleapis.com/ztm_tf_course/food_vision/pizza_steak.zip\n",
            "Resolving storage.googleapis.com (storage.googleapis.com)... 142.251.5.128, 74.125.206.128, 64.233.167.128, ...\n",
            "Connecting to storage.googleapis.com (storage.googleapis.com)|142.251.5.128|:443... connected.\n",
            "HTTP request sent, awaiting response... 200 OK\n",
            "Length: 109579078 (105M) [application/zip]\n",
            "Saving to: ‘pizza_steak.zip.1’\n",
            "\n",
            "pizza_steak.zip.1   100%[===================>] 104.50M  36.7MB/s    in 2.8s    \n",
            "\n",
            "2021-06-12 13:54:08 (36.7 MB/s) - ‘pizza_steak.zip.1’ saved [109579078/109579078]\n",
            "\n"
          ],
          "name": "stdout"
        }
      ]
    },
    {
      "cell_type": "markdown",
      "metadata": {
        "id": "RM13MA9VFp9Q"
      },
      "source": [
        "## Inspect the data\n",
        "\n",
        "A very crucial step at the beginning of any machine learning project is becoming one with the data.\n",
        "And for a computer vision project this means visualizing many samples of the data"
      ]
    },
    {
      "cell_type": "code",
      "metadata": {
        "colab": {
          "base_uri": "https://localhost:8080/"
        },
        "id": "deg4VAC9Jo3L",
        "outputId": "5271d40b-cb43-476d-feb5-5fd36c800461"
      },
      "source": [
        "!ls pizza_steak"
      ],
      "execution_count": 48,
      "outputs": [
        {
          "output_type": "stream",
          "text": [
            "test  train\n"
          ],
          "name": "stdout"
        }
      ]
    },
    {
      "cell_type": "code",
      "metadata": {
        "colab": {
          "base_uri": "https://localhost:8080/"
        },
        "id": "7WoleIlFJu4W",
        "outputId": "fc34e5fc-0b52-427a-c890-8d8ad65ed271"
      },
      "source": [
        "!ls pizza_steak/train/"
      ],
      "execution_count": 49,
      "outputs": [
        {
          "output_type": "stream",
          "text": [
            "pizza  steak\n"
          ],
          "name": "stdout"
        }
      ]
    },
    {
      "cell_type": "code",
      "metadata": {
        "colab": {
          "base_uri": "https://localhost:8080/"
        },
        "id": "DEejQFKWJw4-",
        "outputId": "5620fe34-7cbc-4a40-db34-439da0777b5d"
      },
      "source": [
        "!ls pizza_steak/train/steak/"
      ],
      "execution_count": 50,
      "outputs": [
        {
          "output_type": "stream",
          "text": [
            "1000205.jpg  1647351.jpg  2238681.jpg  2824680.jpg  3375959.jpg  417368.jpg\n",
            "100135.jpg   1650002.jpg  2238802.jpg  2825100.jpg  3381560.jpg  4176.jpg\n",
            "101312.jpg   165639.jpg   2254705.jpg  2826987.jpg  3382936.jpg  42125.jpg\n",
            "1021458.jpg  1658186.jpg  225990.jpg   2832499.jpg  3386119.jpg  421476.jpg\n",
            "1032846.jpg  1658443.jpg  2260231.jpg  2832960.jpg  3388717.jpg  421561.jpg\n",
            "10380.jpg    165964.jpg   2268692.jpg  285045.jpg   3389138.jpg  438871.jpg\n",
            "1049459.jpg  167069.jpg   2271133.jpg  285147.jpg   3393547.jpg  43924.jpg\n",
            "1053665.jpg  1675632.jpg  227576.jpg   2855315.jpg  3393688.jpg  440188.jpg\n",
            "1068516.jpg  1678108.jpg  2283057.jpg  2856066.jpg  3396589.jpg  442757.jpg\n",
            "1068975.jpg  168006.jpg   2286639.jpg  2859933.jpg  339891.jpg\t 443210.jpg\n",
            "1081258.jpg  1682496.jpg  2287136.jpg  286219.jpg   3417789.jpg  444064.jpg\n",
            "1090122.jpg  1684438.jpg  2291292.jpg  2862562.jpg  3425047.jpg  444709.jpg\n",
            "1093966.jpg  168775.jpg   229323.jpg   2865730.jpg  3434983.jpg  447557.jpg\n",
            "1098844.jpg  1697339.jpg  2300534.jpg  2878151.jpg  3435358.jpg  461187.jpg\n",
            "1100074.jpg  1710569.jpg  2300845.jpg  2880035.jpg  3438319.jpg  461689.jpg\n",
            "1105280.jpg  1714605.jpg  231296.jpg   2881783.jpg  3444407.jpg  465494.jpg\n",
            "1117936.jpg  1724387.jpg  2315295.jpg  2884233.jpg  345734.jpg\t 468384.jpg\n",
            "1126126.jpg  1724717.jpg  2323132.jpg  2890573.jpg  3460673.jpg  477486.jpg\n",
            "114601.jpg   172936.jpg   2324994.jpg  2893832.jpg  3465327.jpg  482022.jpg\n",
            "1147047.jpg  1736543.jpg  2327701.jpg  2893892.jpg  3466159.jpg  482465.jpg\n",
            "1147883.jpg  1736968.jpg  2331076.jpg  2907177.jpg  3469024.jpg  483788.jpg\n",
            "1155665.jpg  1746626.jpg  233964.jpg   290850.jpg   3470083.jpg  493029.jpg\n",
            "1163977.jpg  1752330.jpg  2344227.jpg  2909031.jpg  3476564.jpg  503589.jpg\n",
            "1190233.jpg  1761285.jpg  234626.jpg   2910418.jpg  3478318.jpg  510757.jpg\n",
            "1208405.jpg  176508.jpg   234704.jpg   2912290.jpg  3488748.jpg  513129.jpg\n",
            "1209120.jpg  1772039.jpg  2357281.jpg  2916448.jpg  3492328.jpg  513842.jpg\n",
            "1212161.jpg  1777107.jpg  2361812.jpg  2916967.jpg  3518960.jpg  523535.jpg\n",
            "1213988.jpg  1787505.jpg  2365287.jpg  2927833.jpg  3522209.jpg  525041.jpg\n",
            "1219039.jpg  179293.jpg   2374582.jpg  2928643.jpg  3524429.jpg  534560.jpg\n",
            "1225762.jpg  1816235.jpg  239025.jpg   2929179.jpg  3528458.jpg  534633.jpg\n",
            "1230968.jpg  1822407.jpg  2390628.jpg  2936477.jpg  3531805.jpg  536535.jpg\n",
            "1236155.jpg  1823263.jpg  2392910.jpg  2938012.jpg  3536023.jpg  541410.jpg\n",
            "1241193.jpg  1826066.jpg  2394465.jpg  2938151.jpg  3538682.jpg  543691.jpg\n",
            "1248337.jpg  1828502.jpg  2395127.jpg  2939678.jpg  3540750.jpg  560503.jpg\n",
            "1257104.jpg  1828969.jpg  2396291.jpg  2940544.jpg  354329.jpg\t 561972.jpg\n",
            "126345.jpg   1829045.jpg  2400975.jpg  2940621.jpg  3547166.jpg  56240.jpg\n",
            "1264050.jpg  1829088.jpg  2403776.jpg  2949079.jpg  3553911.jpg  56409.jpg\n",
            "1264154.jpg  1836332.jpg  2403907.jpg  295491.jpg   3556871.jpg  564530.jpg\n",
            "1264858.jpg  1839025.jpg  240435.jpg   296268.jpg   355715.jpg\t 568972.jpg\n",
            "127029.jpg   1839481.jpg  2404695.jpg  2964732.jpg  356234.jpg\t 576725.jpg\n",
            "1289900.jpg  183995.jpg   2404884.jpg  2965021.jpg  3571963.jpg  588739.jpg\n",
            "1290362.jpg  184110.jpg   2407770.jpg  2966859.jpg  3576078.jpg  590142.jpg\n",
            "1295457.jpg  184226.jpg   2412263.jpg  2977966.jpg  3577618.jpg  60633.jpg\n",
            "1312841.jpg  1846706.jpg  2425062.jpg  2979061.jpg  3577732.jpg  60655.jpg\n",
            "1313316.jpg  1849364.jpg  2425389.jpg  2983260.jpg  3578934.jpg  606820.jpg\n",
            "1324791.jpg  1849463.jpg  2435316.jpg  2984311.jpg  358042.jpg\t 612551.jpg\n",
            "1327567.jpg  1849542.jpg  2437268.jpg  2988960.jpg  358045.jpg\t 614975.jpg\n",
            "1327667.jpg  1853564.jpg  2437843.jpg  2989882.jpg  3591821.jpg  616809.jpg\n",
            "1333055.jpg  1869467.jpg  2440131.jpg  2995169.jpg  359330.jpg\t 628628.jpg\n",
            "1334054.jpg  1870942.jpg  2443168.jpg  2996324.jpg  3601483.jpg  632427.jpg\n",
            "1335556.jpg  187303.jpg   2446660.jpg  3000131.jpg  3606642.jpg  636594.jpg\n",
            "1337814.jpg  187521.jpg   2455944.jpg  3002350.jpg  3609394.jpg  637374.jpg\n",
            "1340977.jpg  1888450.jpg  2458401.jpg  3007772.jpg  361067.jpg\t 640539.jpg\n",
            "1343209.jpg  1889336.jpg  2487306.jpg  3008192.jpg  3613455.jpg  644777.jpg\n",
            "134369.jpg   1907039.jpg  248841.jpg   3009617.jpg  3621464.jpg  644867.jpg\n",
            "1344105.jpg  1925230.jpg  2489716.jpg  3011642.jpg  3621562.jpg  658189.jpg\n",
            "134598.jpg   1927984.jpg  2490489.jpg  3020591.jpg  3621565.jpg  660900.jpg\n",
            "1346387.jpg  1930577.jpg  2495884.jpg  3030578.jpg  3623556.jpg  663014.jpg\n",
            "1348047.jpg  1937872.jpg  2495903.jpg  3047807.jpg  3640915.jpg  664545.jpg\n",
            "1351372.jpg  1941807.jpg  2499364.jpg  3059843.jpg  3643951.jpg  667075.jpg\n",
            "1362989.jpg  1942333.jpg  2500292.jpg  3074367.jpg  3653129.jpg  669180.jpg\n",
            "1367035.jpg  1945132.jpg  2509017.jpg  3082120.jpg  3656752.jpg  669960.jpg\n",
            "1371177.jpg  1961025.jpg  250978.jpg   3094354.jpg  3663518.jpg  6709.jpg\n",
            "1375640.jpg  1966300.jpg  2514432.jpg  3095301.jpg  3663800.jpg  674001.jpg\n",
            "1382427.jpg  1966967.jpg  2526838.jpg  3099645.jpg  3664376.jpg  676189.jpg\n",
            "1392718.jpg  1969596.jpg  252858.jpg   3100476.jpg  3670607.jpg  681609.jpg\n",
            "1395906.jpg  1971757.jpg  2532239.jpg  3110387.jpg  3671021.jpg  6926.jpg\n",
            "1400760.jpg  1976160.jpg  2534567.jpg  3113772.jpg  3671877.jpg  703556.jpg\n",
            "1403005.jpg  1984271.jpg  2535431.jpg  3116018.jpg  368073.jpg\t 703909.jpg\n",
            "1404770.jpg  1987213.jpg  2535456.jpg  3128952.jpg  368162.jpg\t 704316.jpg\n",
            "140832.jpg   1987639.jpg  2538000.jpg  3130412.jpg  368170.jpg\t 714298.jpg\n",
            "141056.jpg   1995118.jpg  2543081.jpg  3136.jpg     3693649.jpg  720060.jpg\n",
            "141135.jpg   1995252.jpg  2544643.jpg  313851.jpg   3700079.jpg  726083.jpg\n",
            "1413972.jpg  199754.jpg   2547797.jpg  3140083.jpg  3704103.jpg  728020.jpg\n",
            "1421393.jpg  2002400.jpg  2548974.jpg  3140147.jpg  3707493.jpg  732986.jpg\n",
            "1428947.jpg  2011264.jpg  2549316.jpg  3142045.jpg  3716881.jpg  734445.jpg\n",
            "1433912.jpg  2012996.jpg  2561199.jpg  3142618.jpg  3724677.jpg  735441.jpg\n",
            "143490.jpg   2013535.jpg  2563233.jpg  3142674.jpg  3727036.jpg  740090.jpg\n",
            "1445352.jpg  2017387.jpg  256592.jpg   3143192.jpg  3727491.jpg  745189.jpg\n",
            "1446401.jpg  2018173.jpg  2568848.jpg  314359.jpg   3736065.jpg  752203.jpg\n",
            "1453991.jpg  2020613.jpg  2573392.jpg  3157832.jpg  37384.jpg\t 75537.jpg\n",
            "1456841.jpg  2032669.jpg  2592401.jpg  3159818.jpg  3743286.jpg  756655.jpg\n",
            "146833.jpg   203450.jpg   2599817.jpg  3162376.jpg  3745515.jpg  762210.jpg\n",
            "1476404.jpg  2034628.jpg  2603058.jpg  3168620.jpg  3750472.jpg  763690.jpg\n",
            "1485083.jpg  2036920.jpg  2606444.jpg  3171085.jpg  3752362.jpg  767442.jpg\n",
            "1487113.jpg  2038418.jpg  2614189.jpg  317206.jpg   3766099.jpg  786409.jpg\n",
            "148916.jpg   2042975.jpg  2614649.jpg  3173444.jpg  3770370.jpg  80215.jpg\n",
            "149087.jpg   2045647.jpg  2615718.jpg  3180182.jpg  377190.jpg\t 802348.jpg\n",
            "1493169.jpg  2050584.jpg  2619625.jpg  31881.jpg    3777020.jpg  804684.jpg\n",
            "149682.jpg   2052542.jpg  2622140.jpg  3191589.jpg  3777482.jpg  812163.jpg\n",
            "1508094.jpg  2056627.jpg  262321.jpg   3204977.jpg  3781152.jpg  813486.jpg\n",
            "1512226.jpg  2062248.jpg  2625330.jpg  320658.jpg   3787809.jpg  819027.jpg\n",
            "1512347.jpg  2081995.jpg  2628106.jpg  3209173.jpg  3788729.jpg  822550.jpg\n",
            "1524526.jpg  2087958.jpg  2629750.jpg  3223400.jpg  3790962.jpg  823766.jpg\n",
            "1530833.jpg  2088030.jpg  2643906.jpg  3223601.jpg  3792514.jpg  827764.jpg\n",
            "1539499.jpg  2088195.jpg  2644457.jpg  3241894.jpg  379737.jpg\t 830007.jpg\n",
            "1541672.jpg  2090493.jpg  2648423.jpg  3245533.jpg  3807440.jpg  838344.jpg\n",
            "1548239.jpg  2090504.jpg  2651300.jpg  3245622.jpg  381162.jpg\t 853327.jpg\n",
            "1550997.jpg  2125877.jpg  2653594.jpg  3247009.jpg  3812039.jpg  854150.jpg\n",
            "1552530.jpg  2129685.jpg  2661577.jpg  3253588.jpg  3829392.jpg  864997.jpg\n",
            "15580.jpg    2133717.jpg  2668916.jpg  3260624.jpg  3830872.jpg  885571.jpg\n",
            "1559052.jpg  2136662.jpg  268444.jpg   326587.jpg   38442.jpg\t 907107.jpg\n",
            "1563266.jpg  213765.jpg   2691461.jpg  32693.jpg    3855584.jpg  908261.jpg\n",
            "1567554.jpg  2138335.jpg  2706403.jpg  3271253.jpg  3857508.jpg  910672.jpg\n",
            "1575322.jpg  2140776.jpg  270687.jpg   3274423.jpg  386335.jpg\t 911803.jpg\n",
            "1588879.jpg  214320.jpg   2707522.jpg  3280453.jpg  3867460.jpg  91432.jpg\n",
            "1594719.jpg  2146963.jpg  2711806.jpg  3298495.jpg  3868959.jpg  914570.jpg\n",
            "1595869.jpg  215222.jpg   2716993.jpg  330182.jpg   3869679.jpg  922752.jpg\n",
            "1598345.jpg  2154126.jpg  2724554.jpg  3306627.jpg  388776.jpg\t 923772.jpg\n",
            "1598885.jpg  2154779.jpg  2738227.jpg  3315727.jpg  3890465.jpg  926414.jpg\n",
            "1600179.jpg  2159975.jpg  2748917.jpg  331860.jpg   3894222.jpg  931356.jpg\n",
            "1600794.jpg  2163079.jpg  2760475.jpg  332232.jpg   3895825.jpg  937133.jpg\n",
            "160552.jpg   217250.jpg   2761427.jpg  3322909.jpg  389739.jpg\t 945791.jpg\n",
            "1606596.jpg  2172600.jpg  2765887.jpg  332557.jpg   3916407.jpg  947877.jpg\n",
            "1615395.jpg  2173084.jpg  2768451.jpg  3326734.jpg  393349.jpg\t 952407.jpg\n",
            "1618011.jpg  217996.jpg   2771149.jpg  3330642.jpg  393494.jpg\t 952437.jpg\n",
            "1619357.jpg  2193684.jpg  2779040.jpg  3333128.jpg  398288.jpg\t 955466.jpg\n",
            "1621763.jpg  220341.jpg   2788312.jpg  3333735.jpg  40094.jpg\t 9555.jpg\n",
            "1623325.jpg  22080.jpg\t  2788759.jpg  3334973.jpg  401094.jpg\t 961341.jpg\n",
            "1624450.jpg  2216146.jpg  2796102.jpg  3335013.jpg  401144.jpg\t 97656.jpg\n",
            "1624747.jpg  2222018.jpg  280284.jpg   3335267.jpg  401651.jpg\t 979110.jpg\n",
            "1628861.jpg  2223787.jpg  2807888.jpg  3346787.jpg  405173.jpg\t 980247.jpg\n",
            "1632774.jpg  2230959.jpg  2815172.jpg  3364420.jpg  405794.jpg\t 982988.jpg\n",
            "1636831.jpg  2232310.jpg  2818805.jpg  336637.jpg   40762.jpg\t 987732.jpg\n",
            "1645470.jpg  2233395.jpg  2823872.jpg  3372616.jpg  413325.jpg\t 996684.jpg\n"
          ],
          "name": "stdout"
        }
      ]
    },
    {
      "cell_type": "code",
      "metadata": {
        "colab": {
          "base_uri": "https://localhost:8080/"
        },
        "id": "0zEaX7DaJ64p",
        "outputId": "d52018b1-b4e5-4513-bb98-22e72db82e4e"
      },
      "source": [
        "import os\n",
        "\n",
        "# Walk through pizza_steak directory and list number of files\n",
        "for dirpath, dirnames, filenames in os.walk(\"pizza_steak\"):\n",
        "  print(f\"There are {len(dirnames)} directories and {len(filenames)} images in '{dirpath}'.\")"
      ],
      "execution_count": 51,
      "outputs": [
        {
          "output_type": "stream",
          "text": [
            "There are 2 directories and 1 images in 'pizza_steak'.\n",
            "There are 2 directories and 1 images in 'pizza_steak/train'.\n",
            "There are 0 directories and 750 images in 'pizza_steak/train/pizza'.\n",
            "There are 0 directories and 750 images in 'pizza_steak/train/steak'.\n",
            "There are 2 directories and 1 images in 'pizza_steak/test'.\n",
            "There are 0 directories and 250 images in 'pizza_steak/test/pizza'.\n",
            "There are 0 directories and 250 images in 'pizza_steak/test/steak'.\n"
          ],
          "name": "stdout"
        }
      ]
    },
    {
      "cell_type": "code",
      "metadata": {
        "colab": {
          "base_uri": "https://localhost:8080/"
        },
        "id": "CO6zTl4fKBjM",
        "outputId": "a3a5d939-3712-4ab8-c780-01b493ab6051"
      },
      "source": [
        "# The extra file in the pizza_steak directory is \".DS_Store\"\n",
        "!ls -la pizza_steak"
      ],
      "execution_count": 52,
      "outputs": [
        {
          "output_type": "stream",
          "text": [
            "total 24\n",
            "drwxr-xr-x 4 root root 4096 Jun 12 12:45 .\n",
            "drwxr-xr-x 1 root root 4096 Jun 12 13:54 ..\n",
            "-rw-r--r-- 1 root root 6148 Jun 12 13:54 .DS_Store\n",
            "drwxr-xr-x 4 root root 4096 Jun 12 12:45 test\n",
            "drwxr-xr-x 4 root root 4096 Jun 12 12:45 train\n"
          ],
          "name": "stdout"
        }
      ]
    },
    {
      "cell_type": "code",
      "metadata": {
        "colab": {
          "base_uri": "https://localhost:8080/"
        },
        "id": "5BeoTJXYKho8",
        "outputId": "5d919848-8b77-46b6-b614-e079122b8038"
      },
      "source": [
        "# Another way to find out how many images are in a file\n",
        "num_steak_images_train = len(os.listdir(\"pizza_steak/train/steak\"))\n",
        "\n",
        "num_steak_images_train"
      ],
      "execution_count": 53,
      "outputs": [
        {
          "output_type": "execute_result",
          "data": {
            "text/plain": [
              "750"
            ]
          },
          "metadata": {
            "tags": []
          },
          "execution_count": 53
        }
      ]
    },
    {
      "cell_type": "markdown",
      "metadata": {
        "id": "QOtyAtn8K1zL"
      },
      "source": [
        "To visualize the images, first let's get the class names programmatically."
      ]
    },
    {
      "cell_type": "code",
      "metadata": {
        "colab": {
          "base_uri": "https://localhost:8080/"
        },
        "id": "9DVaTuBWLCER",
        "outputId": "0b4eabd8-b972-4aa9-84a9-8105e6e0ef48"
      },
      "source": [
        "# Get the classnames programmatically\n",
        "import pathlib\n",
        "import numpy as np\n",
        "data_dir = pathlib.Path(\"pizza_steak/train\")\n",
        "class_names = np.array(sorted([item.name for item in data_dir.glob(\"*\")])) \n",
        "# Created a list of class_names from the subdirectories\n",
        "class_names = class_names[1:] # Remove .DS_Store\n",
        "print(class_names)"
      ],
      "execution_count": 54,
      "outputs": [
        {
          "output_type": "stream",
          "text": [
            "['pizza' 'steak']\n"
          ],
          "name": "stdout"
        }
      ]
    },
    {
      "cell_type": "code",
      "metadata": {
        "id": "S5n-uec2LntT"
      },
      "source": [
        "# Visualize the images\n",
        "import matplotlib.pyplot as plt\n",
        "import matplotlib.image as mpimg\n",
        "import random\n",
        "\n",
        "def view_random_image(target_dir, target_class):\n",
        "  # Setup target directory (we'll view images from here)\n",
        "  target_folder = target_dir+target_class\n",
        "\n",
        "  # Get a random image path\n",
        "  random_image = random.sample(os.listdir(target_folder), 1)\n",
        "\n",
        "  # Read in the image and plot it using matplotlib\n",
        "  img = mpimg.imread(target_folder + \"/\" + random_image[0])\n",
        "  plt.imshow(img)\n",
        "  plt.title(target_class)\n",
        "  plt.axis(\"off\");\n",
        "\n",
        "  print(f\"Image shape: {img.shape}\") # show the shape of the image\n",
        "\n",
        "  return img"
      ],
      "execution_count": 55,
      "outputs": []
    },
    {
      "cell_type": "code",
      "metadata": {
        "colab": {
          "base_uri": "https://localhost:8080/",
          "height": 282
        },
        "id": "nSoalNQhSc8B",
        "outputId": "46ef8675-3455-4d4b-a002-745b56bd4c6d"
      },
      "source": [
        "# View a random image from the training dataset\n",
        "img = view_random_image(target_dir=\"pizza_steak/train/\",\n",
        "                        target_class=\"steak\")"
      ],
      "execution_count": 56,
      "outputs": [
        {
          "output_type": "stream",
          "text": [
            "Image shape: (512, 289, 3)\n"
          ],
          "name": "stdout"
        },
        {
          "output_type": "display_data",
          "data": {
            "image/png": "[encoded data removed]",
            "text/plain": [
              "<Figure size 432x288 with 1 Axes>"
            ]
          },
          "metadata": {
            "tags": [],
            "needs_background": "light"
          }
        }
      ]
    },
    {
      "cell_type": "code",
      "metadata": {
        "colab": {
          "base_uri": "https://localhost:8080/"
        },
        "id": "AE3G025QSeom",
        "outputId": "060ba776-7b5b-4e9d-f566-dfaacb2d4aa4"
      },
      "source": [
        "# View the img (actually just a big array/tensor)\n",
        "img"
      ],
      "execution_count": 57,
      "outputs": [
        {
          "output_type": "execute_result",
          "data": {
            "text/plain": [
              "array([[[1, 1, 3],\n",
              "        [1, 1, 3],\n",
              "        [1, 1, 3],\n",
              "        ...,\n",
              "        [1, 1, 1],\n",
              "        [1, 1, 1],\n",
              "        [0, 0, 0]],\n",
              "\n",
              "       [[1, 1, 3],\n",
              "        [1, 1, 3],\n",
              "        [1, 1, 3],\n",
              "        ...,\n",
              "        [1, 1, 1],\n",
              "        [1, 1, 1],\n",
              "        [0, 0, 0]],\n",
              "\n",
              "       [[1, 1, 3],\n",
              "        [1, 1, 3],\n",
              "        [1, 1, 3],\n",
              "        ...,\n",
              "        [1, 1, 1],\n",
              "        [1, 1, 1],\n",
              "        [0, 0, 0]],\n",
              "\n",
              "       ...,\n",
              "\n",
              "       [[0, 2, 1],\n",
              "        [0, 2, 1],\n",
              "        [0, 2, 1],\n",
              "        ...,\n",
              "        [1, 1, 0],\n",
              "        [1, 1, 0],\n",
              "        [0, 0, 0]],\n",
              "\n",
              "       [[0, 2, 1],\n",
              "        [0, 2, 1],\n",
              "        [0, 2, 1],\n",
              "        ...,\n",
              "        [1, 1, 0],\n",
              "        [1, 1, 0],\n",
              "        [0, 0, 0]],\n",
              "\n",
              "       [[0, 2, 1],\n",
              "        [0, 2, 1],\n",
              "        [0, 2, 1],\n",
              "        ...,\n",
              "        [1, 1, 0],\n",
              "        [1, 1, 0],\n",
              "        [0, 0, 0]]], dtype=uint8)"
            ]
          },
          "metadata": {
            "tags": []
          },
          "execution_count": 57
        }
      ]
    },
    {
      "cell_type": "code",
      "metadata": {
        "colab": {
          "base_uri": "https://localhost:8080/"
        },
        "id": "iH0zhZMaTaba",
        "outputId": "9c037537-ce50-4e21-d901-c58f2c9733b5"
      },
      "source": [
        "# The imported image are actually giant arrays/tensors of different pixel values\n",
        "import tensorflow as tf\n",
        "tf.constant(img)"
      ],
      "execution_count": 58,
      "outputs": [
        {
          "output_type": "execute_result",
          "data": {
            "text/plain": [
              "<tf.Tensor: shape=(512, 289, 3), dtype=uint8, numpy=\n",
              "array([[[1, 1, 3],\n",
              "        [1, 1, 3],\n",
              "        [1, 1, 3],\n",
              "        ...,\n",
              "        [1, 1, 1],\n",
              "        [1, 1, 1],\n",
              "        [0, 0, 0]],\n",
              "\n",
              "       [[1, 1, 3],\n",
              "        [1, 1, 3],\n",
              "        [1, 1, 3],\n",
              "        ...,\n",
              "        [1, 1, 1],\n",
              "        [1, 1, 1],\n",
              "        [0, 0, 0]],\n",
              "\n",
              "       [[1, 1, 3],\n",
              "        [1, 1, 3],\n",
              "        [1, 1, 3],\n",
              "        ...,\n",
              "        [1, 1, 1],\n",
              "        [1, 1, 1],\n",
              "        [0, 0, 0]],\n",
              "\n",
              "       ...,\n",
              "\n",
              "       [[0, 2, 1],\n",
              "        [0, 2, 1],\n",
              "        [0, 2, 1],\n",
              "        ...,\n",
              "        [1, 1, 0],\n",
              "        [1, 1, 0],\n",
              "        [0, 0, 0]],\n",
              "\n",
              "       [[0, 2, 1],\n",
              "        [0, 2, 1],\n",
              "        [0, 2, 1],\n",
              "        ...,\n",
              "        [1, 1, 0],\n",
              "        [1, 1, 0],\n",
              "        [0, 0, 0]],\n",
              "\n",
              "       [[0, 2, 1],\n",
              "        [0, 2, 1],\n",
              "        [0, 2, 1],\n",
              "        ...,\n",
              "        [1, 1, 0],\n",
              "        [1, 1, 0],\n",
              "        [0, 0, 0]]], dtype=uint8)>"
            ]
          },
          "metadata": {
            "tags": []
          },
          "execution_count": 58
        }
      ]
    },
    {
      "cell_type": "code",
      "metadata": {
        "colab": {
          "base_uri": "https://localhost:8080/"
        },
        "id": "VTMmN678TYRm",
        "outputId": "6a5f4d6d-dff7-4de0-e0e1-427867bc3896"
      },
      "source": [
        "# View the image shape\n",
        "img.shape # returns (width, height, colour channels)"
      ],
      "execution_count": 59,
      "outputs": [
        {
          "output_type": "execute_result",
          "data": {
            "text/plain": [
              "(512, 289, 3)"
            ]
          },
          "metadata": {
            "tags": []
          },
          "execution_count": 59
        }
      ]
    },
    {
      "cell_type": "code",
      "metadata": {
        "colab": {
          "base_uri": "https://localhost:8080/"
        },
        "id": "ChuOHOnZU9L7",
        "outputId": "7f31326c-9636-4843-f2a4-e755bf8a89cb"
      },
      "source": [
        "# Get all the pixel values between 0 & 1\n",
        "img/255."
      ],
      "execution_count": 60,
      "outputs": [
        {
          "output_type": "execute_result",
          "data": {
            "text/plain": [
              "array([[[0.00392157, 0.00392157, 0.01176471],\n",
              "        [0.00392157, 0.00392157, 0.01176471],\n",
              "        [0.00392157, 0.00392157, 0.01176471],\n",
              "        ...,\n",
              "        [0.00392157, 0.00392157, 0.00392157],\n",
              "        [0.00392157, 0.00392157, 0.00392157],\n",
              "        [0.        , 0.        , 0.        ]],\n",
              "\n",
              "       [[0.00392157, 0.00392157, 0.01176471],\n",
              "        [0.00392157, 0.00392157, 0.01176471],\n",
              "        [0.00392157, 0.00392157, 0.01176471],\n",
              "        ...,\n",
              "        [0.00392157, 0.00392157, 0.00392157],\n",
              "        [0.00392157, 0.00392157, 0.00392157],\n",
              "        [0.        , 0.        , 0.        ]],\n",
              "\n",
              "       [[0.00392157, 0.00392157, 0.01176471],\n",
              "        [0.00392157, 0.00392157, 0.01176471],\n",
              "        [0.00392157, 0.00392157, 0.01176471],\n",
              "        ...,\n",
              "        [0.00392157, 0.00392157, 0.00392157],\n",
              "        [0.00392157, 0.00392157, 0.00392157],\n",
              "        [0.        , 0.        , 0.        ]],\n",
              "\n",
              "       ...,\n",
              "\n",
              "       [[0.        , 0.00784314, 0.00392157],\n",
              "        [0.        , 0.00784314, 0.00392157],\n",
              "        [0.        , 0.00784314, 0.00392157],\n",
              "        ...,\n",
              "        [0.00392157, 0.00392157, 0.        ],\n",
              "        [0.00392157, 0.00392157, 0.        ],\n",
              "        [0.        , 0.        , 0.        ]],\n",
              "\n",
              "       [[0.        , 0.00784314, 0.00392157],\n",
              "        [0.        , 0.00784314, 0.00392157],\n",
              "        [0.        , 0.00784314, 0.00392157],\n",
              "        ...,\n",
              "        [0.00392157, 0.00392157, 0.        ],\n",
              "        [0.00392157, 0.00392157, 0.        ],\n",
              "        [0.        , 0.        , 0.        ]],\n",
              "\n",
              "       [[0.        , 0.00784314, 0.00392157],\n",
              "        [0.        , 0.00784314, 0.00392157],\n",
              "        [0.        , 0.00784314, 0.00392157],\n",
              "        ...,\n",
              "        [0.00392157, 0.00392157, 0.        ],\n",
              "        [0.00392157, 0.00392157, 0.        ],\n",
              "        [0.        , 0.        , 0.        ]]])"
            ]
          },
          "metadata": {
            "tags": []
          },
          "execution_count": 60
        }
      ]
    },
    {
      "cell_type": "code",
      "metadata": {
        "id": "YgXcGcV3VlSg",
        "colab": {
          "base_uri": "https://localhost:8080/"
        },
        "outputId": "9f7e5edc-1d5d-4356-da03-8880b6c68888"
      },
      "source": [
        "# Normalize the data\n",
        "# Get all the pixel values between 0 & 1\n",
        "img/255"
      ],
      "execution_count": 61,
      "outputs": [
        {
          "output_type": "execute_result",
          "data": {
            "text/plain": [
              "array([[[0.00392157, 0.00392157, 0.01176471],\n",
              "        [0.00392157, 0.00392157, 0.01176471],\n",
              "        [0.00392157, 0.00392157, 0.01176471],\n",
              "        ...,\n",
              "        [0.00392157, 0.00392157, 0.00392157],\n",
              "        [0.00392157, 0.00392157, 0.00392157],\n",
              "        [0.        , 0.        , 0.        ]],\n",
              "\n",
              "       [[0.00392157, 0.00392157, 0.01176471],\n",
              "        [0.00392157, 0.00392157, 0.01176471],\n",
              "        [0.00392157, 0.00392157, 0.01176471],\n",
              "        ...,\n",
              "        [0.00392157, 0.00392157, 0.00392157],\n",
              "        [0.00392157, 0.00392157, 0.00392157],\n",
              "        [0.        , 0.        , 0.        ]],\n",
              "\n",
              "       [[0.00392157, 0.00392157, 0.01176471],\n",
              "        [0.00392157, 0.00392157, 0.01176471],\n",
              "        [0.00392157, 0.00392157, 0.01176471],\n",
              "        ...,\n",
              "        [0.00392157, 0.00392157, 0.00392157],\n",
              "        [0.00392157, 0.00392157, 0.00392157],\n",
              "        [0.        , 0.        , 0.        ]],\n",
              "\n",
              "       ...,\n",
              "\n",
              "       [[0.        , 0.00784314, 0.00392157],\n",
              "        [0.        , 0.00784314, 0.00392157],\n",
              "        [0.        , 0.00784314, 0.00392157],\n",
              "        ...,\n",
              "        [0.00392157, 0.00392157, 0.        ],\n",
              "        [0.00392157, 0.00392157, 0.        ],\n",
              "        [0.        , 0.        , 0.        ]],\n",
              "\n",
              "       [[0.        , 0.00784314, 0.00392157],\n",
              "        [0.        , 0.00784314, 0.00392157],\n",
              "        [0.        , 0.00784314, 0.00392157],\n",
              "        ...,\n",
              "        [0.00392157, 0.00392157, 0.        ],\n",
              "        [0.00392157, 0.00392157, 0.        ],\n",
              "        [0.        , 0.        , 0.        ]],\n",
              "\n",
              "       [[0.        , 0.00784314, 0.00392157],\n",
              "        [0.        , 0.00784314, 0.00392157],\n",
              "        [0.        , 0.00784314, 0.00392157],\n",
              "        ...,\n",
              "        [0.00392157, 0.00392157, 0.        ],\n",
              "        [0.00392157, 0.00392157, 0.        ],\n",
              "        [0.        , 0.        , 0.        ]]])"
            ]
          },
          "metadata": {
            "tags": []
          },
          "execution_count": 61
        }
      ]
    },
    {
      "cell_type": "markdown",
      "metadata": {
        "id": "U3YPxlFCtd0Q"
      },
      "source": [
        "## A (Typical) architecture of a convolutional neural network\n",
        "\n",
        "Convolutional neural networks are no different to other kinds of deep learning neural networks in the fact they can be created in many different ways. What you see below are some components you'd expect to find in a traditional CNN.\n",
        "\n",
        "Components of a convolutional neural network:\n",
        "\n",
        "* Input Image(s): Target images you'd like to discover patterns in. Whatever you can take a photo (or video) of.\n",
        "* Input layer: takes in target images and preprocesses them for further layers. `input_shape = [batch_size, image_height, image_width, color_channels]`\n",
        "* Convolution layer: Extracts/learns the most important features from target images. `multiple, can create with tf.keras.layers.ConvXD(X can be multiple values)`\n",
        "* Hidden activation: Adds non-linerity to learned features (non-straight lines). Usually ReLU `tf.keras.activations.relu`\n",
        "* Pooling layer: Reduces the dimensionality of learned image features. Average `tf.keras.layers.AvgPool2D` or Max `tf.keras.layers.MaxPool2D`\n",
        "* Fully connected layer: Futher refines learned features from convolution layers. `tf.keras.layers.Dense`\n",
        "* Output layer: Takes learned features and outputs them in shape of target labels. `output_shape = [number_of_classes]` (e.g. 3 for pizza, steak or sushi)\n",
        "* Output activation: Adds non-linearities to output layer. `tf.keras.activations.sigmoid` (binary classification) or `tf.keras.activation.sofmax`"
      ]
    },
    {
      "cell_type": "markdown",
      "metadata": {
        "id": "El56-gYAzRBL"
      },
      "source": [
        "## An end-to-end example\n",
        "\n",
        "We've checked out the data and found there's 750 training images, as well as 250 test images per class and they're all of various different shapes. \n",
        "\n",
        "Reading the original dataset authors paper, we see they used a Random Forest machine learning model and averaged 50.76% accuracy at predicting what different foods different images had in them. From now on, that 50,76% will be our baseline. \n",
        "\n",
        "The code in the following cell replicate an end-to-end way to model the pizza_steak dataset with a convolutional neural network (CNN) using the components listed above.\n",
        "\n",
        "- Resource: The architecture we're using below is a scaled-down version of VGG-16, a convolutinal neural network which came 2nd in 2014 ImageNet classification competition."
      ]
    },
    {
      "cell_type": "code",
      "metadata": {
        "colab": {
          "base_uri": "https://localhost:8080/"
        },
        "id": "N-q5NIYp0lrO",
        "outputId": "22a392d1-1d85-4057-a0ee-a9952650452d"
      },
      "source": [
        "import tensorflow as tf\n",
        "from tensorflow.keras.preprocessing.image import ImageDataGenerator\n",
        "\n",
        "# Set the seed\n",
        "tf.random.set_seed(42)\n",
        "\n",
        "# Preprocess data (get all of the pixel values between 1 and 0, also called scaling/normalization)\n",
        "train_datagen = ImageDataGenerator(rescale=1./255)\n",
        "valid_datagen = ImageDataGenerator(rescale=1./255)\n",
        "\n",
        "# Setup the train and test directories\n",
        "train_dir = \"pizza_steak/train/\"\n",
        "test_dir = \"pizza_steak/test/\"\n",
        "\n",
        "# Import data from directories and turn it into batches\n",
        "train_data = train_datagen.flow_from_directory(train_dir,\n",
        "                                               batch_size=32, # number of images to process at a time \n",
        "                                               target_size=(224, 224), # convert all images to be 224 x 224\n",
        "                                               class_mode=\"binary\", # type of problem we're working on\n",
        "                                               seed=42)\n",
        "\n",
        "valid_data = valid_datagen.flow_from_directory(test_dir,\n",
        "                                               batch_size=32,\n",
        "                                               target_size=(224, 224),\n",
        "                                               class_mode=\"binary\",\n",
        "                                               seed=42)\n",
        "\n",
        "# Create a CNN model \n",
        "model_1 = tf.keras.models.Sequential([\n",
        "  tf.keras.layers.Conv2D(filters=10, \n",
        "                         kernel_size=3, # can also be (3, 3)\n",
        "                         activation=\"relu\", \n",
        "                         input_shape=(224, 224, 3)), # first layer specifies input shape (height, width, colour channels)\n",
        "  tf.keras.layers.Conv2D(10, 3, activation=\"relu\"),\n",
        "  tf.keras.layers.MaxPool2D(pool_size=2, # pool_size can also be (2, 2)\n",
        "                            padding=\"valid\"), # padding can also be 'same'\n",
        "  tf.keras.layers.Conv2D(10, 3, activation=\"relu\"),\n",
        "  tf.keras.layers.Conv2D(10, 3, activation=\"relu\"), # activation='relu' == tf.keras.layers.Activations(tf.nn.relu)\n",
        "  tf.keras.layers.MaxPool2D(2),\n",
        "  tf.keras.layers.Flatten(),\n",
        "  tf.keras.layers.Dense(1, activation=\"sigmoid\") # binary activation output\n",
        "])\n",
        "\n",
        "# Compile the model\n",
        "model_1.compile(loss=\"binary_crossentropy\",\n",
        "              optimizer=tf.keras.optimizers.Adam(),\n",
        "              metrics=[\"accuracy\"])\n",
        "\n",
        "# Fit the model\n",
        "history_1 = model_1.fit(train_data,\n",
        "                        epochs=5,\n",
        "                        steps_per_epoch=len(train_data),\n",
        "                        validation_data=valid_data,\n",
        "                        validation_steps=len(valid_data))"
      ],
      "execution_count": 62,
      "outputs": [
        {
          "output_type": "stream",
          "text": [
            "Found 1500 images belonging to 2 classes.\n",
            "Found 500 images belonging to 2 classes.\n",
            "Epoch 1/5\n",
            "47/47 [==============================] - 12s 250ms/step - loss: 0.5519 - accuracy: 0.7047 - val_loss: 0.4140 - val_accuracy: 0.8060\n",
            "Epoch 2/5\n",
            "47/47 [==============================] - 11s 242ms/step - loss: 0.4183 - accuracy: 0.8100 - val_loss: 0.3553 - val_accuracy: 0.8520\n",
            "Epoch 3/5\n",
            "47/47 [==============================] - 11s 242ms/step - loss: 0.3959 - accuracy: 0.8247 - val_loss: 0.3385 - val_accuracy: 0.8760\n",
            "Epoch 4/5\n",
            "47/47 [==============================] - 11s 241ms/step - loss: 0.3512 - accuracy: 0.8487 - val_loss: 0.3208 - val_accuracy: 0.8500\n",
            "Epoch 5/5\n",
            "47/47 [==============================] - 11s 241ms/step - loss: 0.3208 - accuracy: 0.8673 - val_loss: 0.2851 - val_accuracy: 0.8880\n"
          ],
          "name": "stdout"
        }
      ]
    },
    {
      "cell_type": "markdown",
      "metadata": {
        "id": "k83MPmMS2UcE"
      },
      "source": [
        "After 5 epochs, the model beat the baseline score of 50.76% accuracy (by getting ~85% on the training set and ~85% accuracy on the test set)\n",
        "\n",
        "However, the model only went through a binary classification problem rather than all of the 101 classes in the Food101 dataset, so the metrics can not be compare."
      ]
    },
    {
      "cell_type": "code",
      "metadata": {
        "colab": {
          "base_uri": "https://localhost:8080/"
        },
        "id": "lql7hbuV20lQ",
        "outputId": "81ac485b-735e-4bfb-8af7-0028c93206af"
      },
      "source": [
        "# Check out the layers in the model\n",
        "model_1.summary()"
      ],
      "execution_count": 63,
      "outputs": [
        {
          "output_type": "stream",
          "text": [
            "Model: \"sequential_5\"\n",
            "_________________________________________________________________\n",
            "Layer (type)                 Output Shape              Param #   \n",
            "=================================================================\n",
            "conv2d_10 (Conv2D)           (None, 222, 222, 10)      280       \n",
            "_________________________________________________________________\n",
            "conv2d_11 (Conv2D)           (None, 220, 220, 10)      910       \n",
            "_________________________________________________________________\n",
            "max_pooling2d_5 (MaxPooling2 (None, 110, 110, 10)      0         \n",
            "_________________________________________________________________\n",
            "conv2d_12 (Conv2D)           (None, 108, 108, 10)      910       \n",
            "_________________________________________________________________\n",
            "conv2d_13 (Conv2D)           (None, 106, 106, 10)      910       \n",
            "_________________________________________________________________\n",
            "max_pooling2d_6 (MaxPooling2 (None, 53, 53, 10)        0         \n",
            "_________________________________________________________________\n",
            "flatten_5 (Flatten)          (None, 28090)             0         \n",
            "_________________________________________________________________\n",
            "dense_10 (Dense)             (None, 1)                 28091     \n",
            "=================================================================\n",
            "Total params: 31,101\n",
            "Trainable params: 31,101\n",
            "Non-trainable params: 0\n",
            "_________________________________________________________________\n"
          ],
          "name": "stdout"
        }
      ]
    },
    {
      "cell_type": "markdown",
      "metadata": {
        "id": "w-N_GDwB234r"
      },
      "source": [
        "## Using the same model as before\n",
        "\n",
        "Replicate the model built in a previous section to see if it works with the image data."
      ]
    },
    {
      "cell_type": "code",
      "metadata": {
        "colab": {
          "base_uri": "https://localhost:8080/"
        },
        "id": "H_6hiDkD7bOg",
        "outputId": "ae987eee-5f0f-4d42-c9bd-530a0f6db6f1"
      },
      "source": [
        "# Set random seed\n",
        "tf.random.set_seed(42)\n",
        "\n",
        "# Create a model to replicate the TensorFlow Playground model\n",
        "model_2 = tf.keras.Sequential([\n",
        "  tf.keras.layers.Flatten(input_shape=(224, 224, 3)), # dense layers expect a 1-dimensional vector as input\n",
        "  tf.keras.layers.Dense(4, activation='relu'),\n",
        "  tf.keras.layers.Dense(4, activation='relu'),\n",
        "  tf.keras.layers.Dense(1, activation='sigmoid')\n",
        "])\n",
        "\n",
        "# Compile the model\n",
        "model_2.compile(loss='binary_crossentropy',\n",
        "              optimizer=tf.keras.optimizers.Adam(),\n",
        "              metrics=[\"accuracy\"])\n",
        "\n",
        "# Fit the model\n",
        "history_2 = model_2.fit(train_data, # use same training data created above\n",
        "                        epochs=5,\n",
        "                        steps_per_epoch=len(train_data),\n",
        "                        validation_data=valid_data, # use same validation data created above\n",
        "                        validation_steps=len(valid_data))"
      ],
      "execution_count": 64,
      "outputs": [
        {
          "output_type": "stream",
          "text": [
            "Epoch 1/5\n",
            "47/47 [==============================] - 10s 213ms/step - loss: 0.7270 - accuracy: 0.4933 - val_loss: 0.6932 - val_accuracy: 0.5000\n",
            "Epoch 2/5\n",
            "47/47 [==============================] - 10s 207ms/step - loss: 0.6932 - accuracy: 0.5000 - val_loss: 0.6931 - val_accuracy: 0.5000\n",
            "Epoch 3/5\n",
            "47/47 [==============================] - 10s 207ms/step - loss: 0.6932 - accuracy: 0.5000 - val_loss: 0.6932 - val_accuracy: 0.5000\n",
            "Epoch 4/5\n",
            "47/47 [==============================] - 10s 206ms/step - loss: 0.6932 - accuracy: 0.4840 - val_loss: 0.6931 - val_accuracy: 0.5000\n",
            "Epoch 5/5\n",
            "47/47 [==============================] - 10s 207ms/step - loss: 0.6932 - accuracy: 0.5000 - val_loss: 0.6931 - val_accuracy: 0.5000\n"
          ],
          "name": "stdout"
        }
      ]
    },
    {
      "cell_type": "code",
      "metadata": {
        "colab": {
          "base_uri": "https://localhost:8080/"
        },
        "id": "BE8y0zxW7fQk",
        "outputId": "46dfd1be-111b-4135-c4ce-e23c5f75a671"
      },
      "source": [
        "# Check the second model's architecture\n",
        "model_2.summary()"
      ],
      "execution_count": 65,
      "outputs": [
        {
          "output_type": "stream",
          "text": [
            "Model: \"sequential_6\"\n",
            "_________________________________________________________________\n",
            "Layer (type)                 Output Shape              Param #   \n",
            "=================================================================\n",
            "flatten_6 (Flatten)          (None, 150528)            0         \n",
            "_________________________________________________________________\n",
            "dense_11 (Dense)             (None, 4)                 602116    \n",
            "_________________________________________________________________\n",
            "dense_12 (Dense)             (None, 4)                 20        \n",
            "_________________________________________________________________\n",
            "dense_13 (Dense)             (None, 1)                 5         \n",
            "=================================================================\n",
            "Total params: 602,141\n",
            "Trainable params: 602,141\n",
            "Non-trainable params: 0\n",
            "_________________________________________________________________\n"
          ],
          "name": "stdout"
        }
      ]
    },
    {
      "cell_type": "markdown",
      "metadata": {
        "id": "JNBsSiIw74et"
      },
      "source": [
        "Despite having 20x more parameters than the CNN (model_1), model_2 perfroms terribly, let's try to improve it"
      ]
    },
    {
      "cell_type": "code",
      "metadata": {
        "colab": {
          "base_uri": "https://localhost:8080/"
        },
        "id": "u9ltqs2wUz6X",
        "outputId": "038b1a0f-a2a0-4112-e25b-6ce73cdf6c2b"
      },
      "source": [
        "# Set random seed\n",
        "tf.random.set_seed(42)\n",
        "\n",
        "# Create a model similar to model_1 but add an extra layer and increase the number of hidden units in each layer\n",
        "model_3 = tf.keras.Sequential([\n",
        "  tf.keras.layers.Flatten(input_shape=(224, 224, 3)), # dense layers expect a 1-dimensional vector as input\n",
        "  tf.keras.layers.Dense(100, activation='relu'), # increase number of neurons from 4 to 100 (for each layer)\n",
        "  tf.keras.layers.Dense(100, activation='relu'),\n",
        "  tf.keras.layers.Dense(100, activation='relu'), # add an extra layer\n",
        "  tf.keras.layers.Dense(1, activation='sigmoid')\n",
        "])\n",
        "\n",
        "# Compile the model\n",
        "model_3.compile(loss='binary_crossentropy',\n",
        "              optimizer=tf.keras.optimizers.Adam(),\n",
        "              metrics=[\"accuracy\"])\n",
        "\n",
        "# Fit the model\n",
        "history_3 = model_3.fit(train_data,\n",
        "                        epochs=5,\n",
        "                        steps_per_epoch=len(train_data),\n",
        "                        validation_data=valid_data,\n",
        "                        validation_steps=len(valid_data))"
      ],
      "execution_count": 66,
      "outputs": [
        {
          "output_type": "stream",
          "text": [
            "Epoch 1/5\n",
            "47/47 [==============================] - 11s 215ms/step - loss: 3.5410 - accuracy: 0.6020 - val_loss: 3.9510 - val_accuracy: 0.5020\n",
            "Epoch 2/5\n",
            "47/47 [==============================] - 10s 210ms/step - loss: 0.9322 - accuracy: 0.6820 - val_loss: 0.6259 - val_accuracy: 0.6920\n",
            "Epoch 3/5\n",
            "47/47 [==============================] - 10s 208ms/step - loss: 0.5734 - accuracy: 0.7493 - val_loss: 0.4593 - val_accuracy: 0.8040\n",
            "Epoch 4/5\n",
            "47/47 [==============================] - 10s 207ms/step - loss: 0.4992 - accuracy: 0.7713 - val_loss: 0.4958 - val_accuracy: 0.7720\n",
            "Epoch 5/5\n",
            "47/47 [==============================] - 10s 207ms/step - loss: 0.5330 - accuracy: 0.7740 - val_loss: 0.6366 - val_accuracy: 0.7140\n"
          ],
          "name": "stdout"
        }
      ]
    },
    {
      "cell_type": "code",
      "metadata": {
        "colab": {
          "base_uri": "https://localhost:8080/"
        },
        "id": "UOMmLV9nXlbC",
        "outputId": "10b32122-158c-41f6-a69a-301a972ae0d3"
      },
      "source": [
        "# Check out model_3 architecture\n",
        "model_3.summary()"
      ],
      "execution_count": 67,
      "outputs": [
        {
          "output_type": "stream",
          "text": [
            "Model: \"sequential_7\"\n",
            "_________________________________________________________________\n",
            "Layer (type)                 Output Shape              Param #   \n",
            "=================================================================\n",
            "flatten_7 (Flatten)          (None, 150528)            0         \n",
            "_________________________________________________________________\n",
            "dense_14 (Dense)             (None, 100)               15052900  \n",
            "_________________________________________________________________\n",
            "dense_15 (Dense)             (None, 100)               10100     \n",
            "_________________________________________________________________\n",
            "dense_16 (Dense)             (None, 100)               10100     \n",
            "_________________________________________________________________\n",
            "dense_17 (Dense)             (None, 1)                 101       \n",
            "=================================================================\n",
            "Total params: 15,073,201\n",
            "Trainable params: 15,073,201\n",
            "Non-trainable params: 0\n",
            "_________________________________________________________________\n"
          ],
          "name": "stdout"
        }
      ]
    },
    {
      "cell_type": "markdown",
      "metadata": {
        "id": "10HrfY2eXrtZ"
      },
      "source": [
        "Despite having even more trainable parameters than model_2 and even 500x than model_1 it still does not out perform model_1. \n",
        "\n",
        "This shows the power of convolutional neural networks and their ability to learn patterns despite using less parameters."
      ]
    },
    {
      "cell_type": "markdown",
      "metadata": {
        "id": "HSC48HaQYFMd"
      },
      "source": [
        "## Binary Classification: let's break it down\n",
        "\n",
        "\n",
        "1. Become one with the data\n",
        "2. Preprocess the data (prepare it for a model)\n",
        "3. Create a model (start with a baseline)\n",
        "4. Fit the model\n",
        "5. Evaluate the model\n",
        "6. Adjust different parameters and improve model (try to beat your baseline)\n",
        "7. Repeat until satisfied\n",
        "\n"
      ]
    },
    {
      "cell_type": "markdown",
      "metadata": {
        "id": "bBsZs2krZVsl"
      },
      "source": [
        "### 1. Become one with the data"
      ]
    },
    {
      "cell_type": "code",
      "metadata": {
        "colab": {
          "base_uri": "https://localhost:8080/",
          "height": 235
        },
        "id": "ekh90Oc_Zk_j",
        "outputId": "4d3d36dc-b3e5-4a40-d118-7de20482c5ee"
      },
      "source": [
        "# Visualize data\n",
        "plt.figure()\n",
        "plt.subplot(1, 2, 1)\n",
        "steak_img = view_random_image(\"pizza_steak/train/\", \"steak\")\n",
        "plt.subplot(1, 2, 2)\n",
        "pizza_img = view_random_image(\"pizza_steak/train/\", \"pizza\")"
      ],
      "execution_count": 68,
      "outputs": [
        {
          "output_type": "stream",
          "text": [
            "Image shape: (384, 512, 3)\n",
            "Image shape: (512, 512, 3)\n"
          ],
          "name": "stdout"
        },
        {
          "output_type": "display_data",
          "data": {
            "image/png": "[encoded data removed]",
            "text/plain": [
              "<Figure size 432x288 with 2 Axes>"
            ]
          },
          "metadata": {
            "tags": [],
            "needs_background": "light"
          }
        }
      ]
    },
    {
      "cell_type": "markdown",
      "metadata": {
        "id": "JvIE0-5RZyf6"
      },
      "source": [
        "### 2. Preprocess the data (prepare it for a model)"
      ]
    },
    {
      "cell_type": "code",
      "metadata": {
        "id": "76jxmU63aa6R"
      },
      "source": [
        "# Define directory dataset paths\n",
        "train_dir = \"pizza_steak/train/\"\n",
        "test_dir = \"pizza_steak/test/\""
      ],
      "execution_count": 69,
      "outputs": []
    },
    {
      "cell_type": "markdown",
      "metadata": {
        "id": "N8mVRgiQai0a"
      },
      "source": [
        "The next step is to turn the data into **batches**\n",
        "\n",
        "A batch is a small subset of data. Rather than look at all ~10,000 images at one time, a model might only look at 32 at a time.\n",
        "\n",
        "It does this for a couple of reasons: \n",
        "\n",
        "1. 10,000 images (or more) might not fit into the memory of the processor (GPU). \n",
        "2. Trying to learn the patterns in 10,000 images in one hit could result in the model not being able to learn very well"
      ]
    },
    {
      "cell_type": "code",
      "metadata": {
        "colab": {
          "base_uri": "https://localhost:8080/"
        },
        "id": "yFUnYQC8bo2C",
        "outputId": "4b89a443-fdb4-4775-886c-4c42d6d456c4"
      },
      "source": [
        "!nvidia-smi"
      ],
      "execution_count": 70,
      "outputs": [
        {
          "output_type": "stream",
          "text": [
            "Sat Jun 12 13:56:49 2021       \n",
            "+-----------------------------------------------------------------------------+\n",
            "| NVIDIA-SMI 465.27       Driver Version: 460.32.03    CUDA Version: 11.2     |\n",
            "|-------------------------------+----------------------+----------------------+\n",
            "| GPU  Name        Persistence-M| Bus-Id        Disp.A | Volatile Uncorr. ECC |\n",
            "| Fan  Temp  Perf  Pwr:Usage/Cap|         Memory-Usage | GPU-Util  Compute M. |\n",
            "|                               |                      |               MIG M. |\n",
            "|===============================+======================+======================|\n",
            "|   0  Tesla K80           Off  | 00000000:00:04.0 Off |                    0 |\n",
            "| N/A   73C    P0    74W / 149W |   1790MiB / 11441MiB |      0%      Default |\n",
            "|                               |                      |                  N/A |\n",
            "+-------------------------------+----------------------+----------------------+\n",
            "                                                                               \n",
            "+-----------------------------------------------------------------------------+\n",
            "| Processes:                                                                  |\n",
            "|  GPU   GI   CI        PID   Type   Process name                  GPU Memory |\n",
            "|        ID   ID                                                   Usage      |\n",
            "|=============================================================================|\n",
            "+-----------------------------------------------------------------------------+\n"
          ],
          "name": "stdout"
        }
      ]
    },
    {
      "cell_type": "code",
      "metadata": {
        "id": "nsRgSMWJbq0e"
      },
      "source": [
        "# Create train and test data generators and rescale the data\n",
        "from tensorflow.keras.preprocessing.image import ImageDataGenerator\n",
        "\n",
        "train_datagen = ImageDataGenerator(rescale=1/255.)\n",
        "test_datagen = ImageDataGenerator(rescale=1/255.)"
      ],
      "execution_count": 71,
      "outputs": []
    },
    {
      "cell_type": "code",
      "metadata": {
        "colab": {
          "base_uri": "https://localhost:8080/"
        },
        "id": "rQpjsDoMdX51",
        "outputId": "276a4ccc-77ac-4983-9f8e-8e300af9cdcc"
      },
      "source": [
        "# Load in the image data from directories and turn them into batches\n",
        "train_data = train_datagen.flow_from_directory(directory=train_dir,\n",
        "                                               target_size=(224, 224),\n",
        "                                               class_mode='binary',\n",
        "                                               batch_size=32)\n",
        "\n",
        "test_data = test_datagen.flow_from_directory(directory=test_dir,\n",
        "                                             target_size=(224, 224),\n",
        "                                             class_mode='binary',\n",
        "                                             batch_size=32)"
      ],
      "execution_count": 72,
      "outputs": [
        {
          "output_type": "stream",
          "text": [
            "Found 1500 images belonging to 2 classes.\n",
            "Found 500 images belonging to 2 classes.\n"
          ],
          "name": "stdout"
        }
      ]
    },
    {
      "cell_type": "code",
      "metadata": {
        "colab": {
          "base_uri": "https://localhost:8080/"
        },
        "id": "wMDPacQ4eF3j",
        "outputId": "2c1a51d8-621a-4cdd-98a9-79cc8cebf49d"
      },
      "source": [
        "# Get a sample of the training data batch \n",
        "images, labels = train_data.next() # get the 'next' batch of images/labels\n",
        "len(images), len(labels)"
      ],
      "execution_count": 73,
      "outputs": [
        {
          "output_type": "execute_result",
          "data": {
            "text/plain": [
              "(32, 32)"
            ]
          },
          "metadata": {
            "tags": []
          },
          "execution_count": 73
        }
      ]
    },
    {
      "cell_type": "code",
      "metadata": {
        "colab": {
          "base_uri": "https://localhost:8080/"
        },
        "id": "NPihgfhMeQyQ",
        "outputId": "07c179f0-8841-4d83-972a-1afe2720dcf8"
      },
      "source": [
        "# Get the first two images\n",
        "images[:2], images[0].shape"
      ],
      "execution_count": 74,
      "outputs": [
        {
          "output_type": "execute_result",
          "data": {
            "text/plain": [
              "(array([[[[0.47058827, 0.40784317, 0.34509805],\n",
              "          [0.4784314 , 0.427451  , 0.3647059 ],\n",
              "          [0.48627454, 0.43529415, 0.37254903],\n",
              "          ...,\n",
              "          [0.8313726 , 0.70980394, 0.48627454],\n",
              "          [0.8431373 , 0.73333335, 0.5372549 ],\n",
              "          [0.87843144, 0.7725491 , 0.5882353 ]],\n",
              " \n",
              "         [[0.50980395, 0.427451  , 0.36078432],\n",
              "          [0.5058824 , 0.42352945, 0.35686275],\n",
              "          [0.5137255 , 0.4431373 , 0.3647059 ],\n",
              "          ...,\n",
              "          [0.82745105, 0.7058824 , 0.48235297],\n",
              "          [0.82745105, 0.70980394, 0.5058824 ],\n",
              "          [0.8431373 , 0.73333335, 0.5372549 ]],\n",
              " \n",
              "         [[0.5254902 , 0.427451  , 0.34901962],\n",
              "          [0.5372549 , 0.43921572, 0.36078432],\n",
              "          [0.5372549 , 0.45098042, 0.36078432],\n",
              "          ...,\n",
              "          [0.82745105, 0.7019608 , 0.4784314 ],\n",
              "          [0.82745105, 0.7058824 , 0.49411768],\n",
              "          [0.8352942 , 0.7176471 , 0.5137255 ]],\n",
              " \n",
              "         ...,\n",
              " \n",
              "         [[0.77647066, 0.5647059 , 0.2901961 ],\n",
              "          [0.7803922 , 0.53333336, 0.22352943],\n",
              "          [0.79215693, 0.5176471 , 0.18039216],\n",
              "          ...,\n",
              "          [0.30588236, 0.2784314 , 0.24705884],\n",
              "          [0.24705884, 0.23137257, 0.19607845],\n",
              "          [0.2784314 , 0.27450982, 0.25490198]],\n",
              " \n",
              "         [[0.7843138 , 0.57254905, 0.29803923],\n",
              "          [0.79215693, 0.54509807, 0.24313727],\n",
              "          [0.8000001 , 0.5254902 , 0.18823531],\n",
              "          ...,\n",
              "          [0.2627451 , 0.23529413, 0.20392159],\n",
              "          [0.24313727, 0.227451  , 0.19215688],\n",
              "          [0.26666668, 0.2627451 , 0.24313727]],\n",
              " \n",
              "         [[0.7960785 , 0.59607846, 0.3372549 ],\n",
              "          [0.7960785 , 0.5647059 , 0.26666668],\n",
              "          [0.81568635, 0.54901963, 0.22352943],\n",
              "          ...,\n",
              "          [0.23529413, 0.19607845, 0.16078432],\n",
              "          [0.3019608 , 0.26666668, 0.24705884],\n",
              "          [0.26666668, 0.2509804 , 0.24705884]]],\n",
              " \n",
              " \n",
              "        [[[0.38823533, 0.4666667 , 0.36078432],\n",
              "          [0.3921569 , 0.46274513, 0.36078432],\n",
              "          [0.38431376, 0.454902  , 0.36078432],\n",
              "          ...,\n",
              "          [0.5294118 , 0.627451  , 0.54509807],\n",
              "          [0.5294118 , 0.627451  , 0.54509807],\n",
              "          [0.5411765 , 0.6392157 , 0.5568628 ]],\n",
              " \n",
              "         [[0.38431376, 0.454902  , 0.3529412 ],\n",
              "          [0.3921569 , 0.46274513, 0.36078432],\n",
              "          [0.39607847, 0.4666667 , 0.37254903],\n",
              "          ...,\n",
              "          [0.54509807, 0.6431373 , 0.5686275 ],\n",
              "          [0.5529412 , 0.6509804 , 0.5764706 ],\n",
              "          [0.5647059 , 0.6627451 , 0.5882353 ]],\n",
              " \n",
              "         [[0.3921569 , 0.46274513, 0.36078432],\n",
              "          [0.38431376, 0.454902  , 0.3529412 ],\n",
              "          [0.4039216 , 0.47450984, 0.3803922 ],\n",
              "          ...,\n",
              "          [0.5764706 , 0.67058825, 0.6156863 ],\n",
              "          [0.5647059 , 0.6666667 , 0.6156863 ],\n",
              "          [0.5647059 , 0.6666667 , 0.6156863 ]],\n",
              " \n",
              "         ...,\n",
              " \n",
              "         [[0.47058827, 0.5647059 , 0.4784314 ],\n",
              "          [0.4784314 , 0.5764706 , 0.4901961 ],\n",
              "          [0.48235297, 0.5803922 , 0.49803925],\n",
              "          ...,\n",
              "          [0.39607847, 0.42352945, 0.3019608 ],\n",
              "          [0.37647063, 0.40000004, 0.2901961 ],\n",
              "          [0.3803922 , 0.4039216 , 0.3019608 ]],\n",
              " \n",
              "         [[0.45098042, 0.5529412 , 0.454902  ],\n",
              "          [0.46274513, 0.5647059 , 0.4666667 ],\n",
              "          [0.47058827, 0.57254905, 0.47450984],\n",
              "          ...,\n",
              "          [0.40784317, 0.43529415, 0.3137255 ],\n",
              "          [0.39607847, 0.41960788, 0.31764707],\n",
              "          [0.38823533, 0.40784317, 0.31764707]],\n",
              " \n",
              "         [[0.47450984, 0.5764706 , 0.47058827],\n",
              "          [0.47058827, 0.57254905, 0.4666667 ],\n",
              "          [0.46274513, 0.5647059 , 0.4666667 ],\n",
              "          ...,\n",
              "          [0.4039216 , 0.427451  , 0.31764707],\n",
              "          [0.3921569 , 0.4156863 , 0.3137255 ],\n",
              "          [0.4039216 , 0.42352945, 0.3372549 ]]]], dtype=float32),\n",
              " (224, 224, 3))"
            ]
          },
          "metadata": {
            "tags": []
          },
          "execution_count": 74
        }
      ]
    },
    {
      "cell_type": "code",
      "metadata": {
        "colab": {
          "base_uri": "https://localhost:8080/"
        },
        "id": "GTQY4_ieeSTm",
        "outputId": "4483e1c1-bd96-482d-f6a8-ca962c5a055a"
      },
      "source": [
        "images[7].shape"
      ],
      "execution_count": 75,
      "outputs": [
        {
          "output_type": "execute_result",
          "data": {
            "text/plain": [
              "(224, 224, 3)"
            ]
          },
          "metadata": {
            "tags": []
          },
          "execution_count": 75
        }
      ]
    },
    {
      "cell_type": "code",
      "metadata": {
        "colab": {
          "base_uri": "https://localhost:8080/"
        },
        "id": "EQOS2eu-fPd-",
        "outputId": "09f5c3f9-baad-48e8-c707-31d5a7911cca"
      },
      "source": [
        "# View the first batch of labels\n",
        "labels"
      ],
      "execution_count": 76,
      "outputs": [
        {
          "output_type": "execute_result",
          "data": {
            "text/plain": [
              "array([1., 1., 0., 1., 0., 0., 0., 1., 0., 1., 0., 0., 1., 0., 0., 0., 1.,\n",
              "       1., 0., 1., 0., 1., 1., 1., 0., 0., 0., 0., 0., 1., 0., 1.],\n",
              "      dtype=float32)"
            ]
          },
          "metadata": {
            "tags": []
          },
          "execution_count": 76
        }
      ]
    },
    {
      "cell_type": "markdown",
      "metadata": {
        "id": "uE4o-lL6fR1i"
      },
      "source": [
        "### 3. Create a CNN model (start with a baseline)\n",
        "\n",
        "A baseline is a relatively simple model or existing result that you setup when beginning a machine learning experiment and then as you keep experimenting, you try to beat the baseline.\n",
        "\n",
        "Note: In deep learning, there is almost an infinite amount of architectures you could create. One of the best ways to get started is to start with something simple and see if it works on the data and then introduce complexity as required (e.g. look for the best model for the problem that's perfroming the best on the field)"
      ]
    },
    {
      "cell_type": "code",
      "metadata": {
        "id": "o2lakSN2fs7W"
      },
      "source": [
        "# Make the creation of the model easier\n",
        "from tensorflow.keras.optimizers import Adam\n",
        "from tensorflow.keras.layers import Dense, Flatten, Conv2D, MaxPool2D, Activation\n",
        "from tensorflow.keras import Sequential"
      ],
      "execution_count": 77,
      "outputs": []
    },
    {
      "cell_type": "code",
      "metadata": {
        "id": "OzZp9HqNgHBl"
      },
      "source": [
        "# Create the model(baseline)\n",
        "model_4 = Sequential([\n",
        "  Conv2D(filters=10, # filter is the number of sliding windows going across an input (higher = more complex model)\n",
        "         kernel_size=(3, 3), # the size of the sliding window going across an input\n",
        "         strides=(1, 1), # the size of the step the sliding window takes across an input \n",
        "         padding=\"valid\", # if \"same\", output shape is same as input shape, if \"valid\", output shape gets compressed\n",
        "         activation=\"relu\",\n",
        "         input_shape=(224, 224, 3)), # input layer (specify input shape)\n",
        "  Conv2D(10, 3, activation=\"relu\"),\n",
        "  Conv2D(10, 3, activation=\"relu\"),\n",
        "  Flatten(),\n",
        "  Dense(1, activation=\"sigmoid\") # output layer (working with binary classification so only 1 output neuron)                 \n",
        "])"
      ],
      "execution_count": 78,
      "outputs": []
    },
    {
      "cell_type": "code",
      "metadata": {
        "id": "_dm4Uga6gp3H"
      },
      "source": [
        "# Compile the model\n",
        "model_4.compile(loss=\"binary_crossentropy\",\n",
        "                optimizer=Adam(),\n",
        "                metrics=[\"accuracy\"])"
      ],
      "execution_count": 79,
      "outputs": []
    },
    {
      "cell_type": "code",
      "metadata": {
        "colab": {
          "base_uri": "https://localhost:8080/"
        },
        "id": "_8wZNp--QQOu",
        "outputId": "c937fbb2-c79c-4a04-9ec3-90605899e6c8"
      },
      "source": [
        "# Get a summary of our model\n",
        "model_4.summary()"
      ],
      "execution_count": 80,
      "outputs": [
        {
          "output_type": "stream",
          "text": [
            "Model: \"sequential_8\"\n",
            "_________________________________________________________________\n",
            "Layer (type)                 Output Shape              Param #   \n",
            "=================================================================\n",
            "conv2d_14 (Conv2D)           (None, 222, 222, 10)      280       \n",
            "_________________________________________________________________\n",
            "conv2d_15 (Conv2D)           (None, 220, 220, 10)      910       \n",
            "_________________________________________________________________\n",
            "conv2d_16 (Conv2D)           (None, 218, 218, 10)      910       \n",
            "_________________________________________________________________\n",
            "flatten_8 (Flatten)          (None, 475240)            0         \n",
            "_________________________________________________________________\n",
            "dense_18 (Dense)             (None, 1)                 475241    \n",
            "=================================================================\n",
            "Total params: 477,341\n",
            "Trainable params: 477,341\n",
            "Non-trainable params: 0\n",
            "_________________________________________________________________\n"
          ],
          "name": "stdout"
        }
      ]
    },
    {
      "cell_type": "markdown",
      "metadata": {
        "id": "oOuBvcZ0Rv-N"
      },
      "source": [
        "### 4. Fit the model"
      ]
    },
    {
      "cell_type": "code",
      "metadata": {
        "colab": {
          "base_uri": "https://localhost:8080/"
        },
        "id": "BHktcIhrR-Jf",
        "outputId": "1c640571-46e4-44f5-944c-b5a2ce96af22"
      },
      "source": [
        "# Check the lengths of training and test data generators\n",
        "len(train_data), len(test_data)"
      ],
      "execution_count": 81,
      "outputs": [
        {
          "output_type": "execute_result",
          "data": {
            "text/plain": [
              "(47, 16)"
            ]
          },
          "metadata": {
            "tags": []
          },
          "execution_count": 81
        }
      ]
    },
    {
      "cell_type": "code",
      "metadata": {
        "colab": {
          "base_uri": "https://localhost:8080/"
        },
        "id": "T5gFdYvNSAHW",
        "outputId": "5a05ae05-e97b-4da2-e79f-482efbe1b88e"
      },
      "source": [
        "# Fit the model\n",
        "history_4 = model_4.fit(train_data, # this is a combination of labels and sample data\n",
        "                        epochs=5,\n",
        "                        steps_per_epoch=len(train_data),\n",
        "                        validation_data=test_data,\n",
        "                        validation_steps=len(test_data))"
      ],
      "execution_count": 82,
      "outputs": [
        {
          "output_type": "stream",
          "text": [
            "Epoch 1/5\n",
            "47/47 [==============================] - 13s 257ms/step - loss: 1.6534 - accuracy: 0.6333 - val_loss: 0.5087 - val_accuracy: 0.7880\n",
            "Epoch 2/5\n",
            "47/47 [==============================] - 12s 250ms/step - loss: 0.4872 - accuracy: 0.7847 - val_loss: 0.4262 - val_accuracy: 0.8180\n",
            "Epoch 3/5\n",
            "47/47 [==============================] - 12s 252ms/step - loss: 0.3921 - accuracy: 0.8427 - val_loss: 0.3887 - val_accuracy: 0.8340\n",
            "Epoch 4/5\n",
            "47/47 [==============================] - 12s 251ms/step - loss: 0.2246 - accuracy: 0.9227 - val_loss: 0.3904 - val_accuracy: 0.8200\n",
            "Epoch 5/5\n",
            "47/47 [==============================] - 12s 247ms/step - loss: 0.0847 - accuracy: 0.9753 - val_loss: 0.4927 - val_accuracy: 0.8140\n"
          ],
          "name": "stdout"
        }
      ]
    },
    {
      "cell_type": "markdown",
      "metadata": {
        "id": "BNcTyX4GSCBX"
      },
      "source": [
        "### 5. Evaluating the model"
      ]
    },
    {
      "cell_type": "code",
      "metadata": {
        "colab": {
          "base_uri": "https://localhost:8080/",
          "height": 428
        },
        "id": "wj8d1O8TSvqB",
        "outputId": "9d0046f4-dd56-4c74-b78c-07cb0ac1c0e6"
      },
      "source": [
        "# Plot the training curves\n",
        "import pandas as pd\n",
        "pd.DataFrame(history_4.history).plot(figsize=(10, 7));"
      ],
      "execution_count": 83,
      "outputs": [
        {
          "output_type": "display_data",
          "data": {
            "image/png": "[encoded data removed]",
            "text/plain": [
              "<Figure size 720x504 with 1 Axes>"
            ]
          },
          "metadata": {
            "tags": [],
            "needs_background": "light"
          }
        }
      ]
    },
    {
      "cell_type": "code",
      "metadata": {
        "id": "qwQsjV5-S8PI"
      },
      "source": [
        "# Plot the validation and training curves separately\n",
        "def plot_loss_curves(history):\n",
        "  \"\"\"\n",
        "  Returns separate loss curves for training and validation metrics.\n",
        "  \"\"\"\n",
        "  loss = history.history[\"loss\"]\n",
        "  val_loss = history.history[\"val_loss\"]\n",
        "\n",
        "  accuracy = history.history[\"accuracy\"]\n",
        "  val_accuracy = history.history[\"val_accuracy\"]\n",
        "\n",
        "  epochs = range(len(history.history[\"loss\"])) # how many epochs did we run for?\n",
        "\n",
        "  # Plot loss\n",
        "  plt.plot(epochs, loss, label=\"training_loss\")\n",
        "  plt.plot(epochs, val_loss, label=\"val_loss\")\n",
        "  plt.title(\"loss\")\n",
        "  plt.xlabel(\"epochs\")\n",
        "  plt.legend()\n",
        "\n",
        "  # Plot accuracy\n",
        "  plt.figure()\n",
        "  plt.plot(epochs, accuracy, label=\"training_accuracy\")\n",
        "  plt.plot(epochs, val_accuracy, label=\"val_accuracy\")\n",
        "  plt.title(\"accuracy\")\n",
        "  plt.xlabel(\"epochs\")\n",
        "  plt.legend();"
      ],
      "execution_count": 84,
      "outputs": []
    },
    {
      "cell_type": "markdown",
      "metadata": {
        "id": "8A6EtZdlTk4a"
      },
      "source": [
        "Note: When a model's validation loss starts to increase, it's likely that the model is overfitting the training dataset. This means, it's learning the patterns in the training dataset too well and thus the model's ability to generalize to unseen data will be diminished."
      ]
    },
    {
      "cell_type": "code",
      "metadata": {
        "colab": {
          "base_uri": "https://localhost:8080/",
          "height": 573
        },
        "id": "UdXTYLgOT0qL",
        "outputId": "f3a81d5f-07f9-41e3-b241-9e2d4c3e3bca"
      },
      "source": [
        "# Check out the loss and accuracy of model_4\n",
        "plot_loss_curves(history_4)"
      ],
      "execution_count": 85,
      "outputs": [
        {
          "output_type": "display_data",
          "data": {
            "image/png": "[encoded data removed]",
            "text/plain": [
              "<Figure size 432x288 with 1 Axes>"
            ]
          },
          "metadata": {
            "tags": [],
            "needs_background": "light"
          }
        },
        {
          "output_type": "display_data",
          "data": {
            "image/png": "[encoded data removed]",
            "text/plain": [
              "<Figure size 432x288 with 1 Axes>"
            ]
          },
          "metadata": {
            "tags": [],
            "needs_background": "light"
          }
        }
      ]
    },
    {
      "cell_type": "markdown",
      "metadata": {
        "id": "pYuqaVvYT2cp"
      },
      "source": [
        "Note: Ideally the two loss curves (training and validation) will be very similar to each other (training loss and validation loss decreasing at similar rates), when there are large differences the model may be **overfitting**."
      ]
    },
    {
      "cell_type": "markdown",
      "metadata": {
        "id": "Z0-L3WbGUdLw"
      },
      "source": [
        "### 6. Adjust the model parameters\n",
        "\n",
        "3 steps in fitting a machine learning model:\n",
        "\n",
        "1. Create baseline.\n",
        "2. Beat the baseline by overfitting a larger model.\n",
        "3. Reduce overfitting.\n",
        "\n",
        "Ways to induce overfitting:\n",
        "\n",
        "* Increase the number of conv layers\n",
        "* Increase the number of conv filters\n",
        "* Add another dense layer to the output of the flattened layer\n",
        "\n",
        "Reduce overfitting:\n",
        "\n",
        "- Add data augmentation\n",
        "- Add regularization layers (such as MaxPoll2D)\n",
        "- Add more data \n",
        "\n",
        "Note: Reducing overfitting is also known as **regularization**"
      ]
    },
    {
      "cell_type": "code",
      "metadata": {
        "id": "2ACF7EbpbGjb"
      },
      "source": [
        "# Create the model (this is going to be our new baseline)\n",
        "model_5 = Sequential([\n",
        "  Conv2D(10, 3, activation=\"relu\", input_shape=(224, 224, 3)),\n",
        "  MaxPool2D(pool_size=2),\n",
        "  Conv2D(10, 3, activation=\"relu\"),\n",
        "  MaxPool2D(),\n",
        "  Conv2D(10, 3, activation=\"relu\"),\n",
        "  MaxPool2D(),\n",
        "  Flatten(),\n",
        "  Dense(1, activation=\"sigmoid\")\n",
        "])"
      ],
      "execution_count": 86,
      "outputs": []
    },
    {
      "cell_type": "code",
      "metadata": {
        "id": "RQTgSLjncEHB"
      },
      "source": [
        "# Compile the model\n",
        "model_5.compile(loss=\"binary_crossentropy\",\n",
        "                optimizer=Adam(),\n",
        "                metrics=[\"accuracy\"])"
      ],
      "execution_count": 87,
      "outputs": []
    },
    {
      "cell_type": "code",
      "metadata": {
        "colab": {
          "base_uri": "https://localhost:8080/"
        },
        "id": "P5v5IEHEcGlP",
        "outputId": "b680475f-390e-4883-f824-14b96b79e01e"
      },
      "source": [
        "# Fit the model\n",
        "history_5 = model_5.fit(train_data,\n",
        "                        epochs=5,\n",
        "                        steps_per_epoch=len(train_data),\n",
        "                        validation_data=test_data,\n",
        "                        validation_steps=len(valid_data))"
      ],
      "execution_count": 88,
      "outputs": [
        {
          "output_type": "stream",
          "text": [
            "Epoch 1/5\n",
            "47/47 [==============================] - 11s 228ms/step - loss: 0.6403 - accuracy: 0.6127 - val_loss: 0.4861 - val_accuracy: 0.7880\n",
            "Epoch 2/5\n",
            "47/47 [==============================] - 10s 221ms/step - loss: 0.4766 - accuracy: 0.7800 - val_loss: 0.3888 - val_accuracy: 0.8500\n",
            "Epoch 3/5\n",
            "47/47 [==============================] - 10s 223ms/step - loss: 0.4238 - accuracy: 0.8187 - val_loss: 0.3889 - val_accuracy: 0.8440\n",
            "Epoch 4/5\n",
            "47/47 [==============================] - 10s 223ms/step - loss: 0.4441 - accuracy: 0.8127 - val_loss: 0.3839 - val_accuracy: 0.8280\n",
            "Epoch 5/5\n",
            "47/47 [==============================] - 10s 222ms/step - loss: 0.3808 - accuracy: 0.8400 - val_loss: 0.3428 - val_accuracy: 0.8480\n"
          ],
          "name": "stdout"
        }
      ]
    },
    {
      "cell_type": "code",
      "metadata": {
        "colab": {
          "base_uri": "https://localhost:8080/"
        },
        "id": "AG2dFu7QcJD_",
        "outputId": "b97d1a96-020f-4f54-f2db-4eff0d381ccc"
      },
      "source": [
        "# Get a summary of the model with max pooling\n",
        "model_5.summary()"
      ],
      "execution_count": 89,
      "outputs": [
        {
          "output_type": "stream",
          "text": [
            "Model: \"sequential_9\"\n",
            "_________________________________________________________________\n",
            "Layer (type)                 Output Shape              Param #   \n",
            "=================================================================\n",
            "conv2d_17 (Conv2D)           (None, 222, 222, 10)      280       \n",
            "_________________________________________________________________\n",
            "max_pooling2d_7 (MaxPooling2 (None, 111, 111, 10)      0         \n",
            "_________________________________________________________________\n",
            "conv2d_18 (Conv2D)           (None, 109, 109, 10)      910       \n",
            "_________________________________________________________________\n",
            "max_pooling2d_8 (MaxPooling2 (None, 54, 54, 10)        0         \n",
            "_________________________________________________________________\n",
            "conv2d_19 (Conv2D)           (None, 52, 52, 10)        910       \n",
            "_________________________________________________________________\n",
            "max_pooling2d_9 (MaxPooling2 (None, 26, 26, 10)        0         \n",
            "_________________________________________________________________\n",
            "flatten_9 (Flatten)          (None, 6760)              0         \n",
            "_________________________________________________________________\n",
            "dense_19 (Dense)             (None, 1)                 6761      \n",
            "=================================================================\n",
            "Total params: 8,861\n",
            "Trainable params: 8,861\n",
            "Non-trainable params: 0\n",
            "_________________________________________________________________\n"
          ],
          "name": "stdout"
        }
      ]
    },
    {
      "cell_type": "code",
      "metadata": {
        "colab": {
          "base_uri": "https://localhost:8080/",
          "height": 573
        },
        "id": "VJvYRt5ZcXhW",
        "outputId": "00d43ce8-eba8-4d28-ff6b-dc01e99a6fab"
      },
      "source": [
        "# Plot loss curves\n",
        "plot_loss_curves(history_5)"
      ],
      "execution_count": 90,
      "outputs": [
        {
          "output_type": "display_data",
          "data": {
            "image/png": "[encoded data removed]",
            "text/plain": [
              "<Figure size 432x288 with 1 Axes>"
            ]
          },
          "metadata": {
            "tags": [],
            "needs_background": "light"
          }
        },
        {
          "output_type": "display_data",
          "data": {
            "image/png": "[encoded data removed]",
            "text/plain": [
              "<Figure size 432x288 with 1 Axes>"
            ]
          },
          "metadata": {
            "tags": [],
            "needs_background": "light"
          }
        }
      ]
    },
    {
      "cell_type": "markdown",
      "metadata": {
        "id": "n_BAFZrpckP8"
      },
      "source": [
        "## Finding data augmentation"
      ]
    },
    {
      "cell_type": "code",
      "metadata": {
        "id": "tLXmS-cPfZuB"
      },
      "source": [
        "# Create ImageDataGenerator training instance with data augmentation\n",
        "train_datagen_augmented = ImageDataGenerator(rescale=1/255.,\n",
        "                                             rotation_range=0.2, # how much do you want to rotate an image?\n",
        "                                             shear_range=0.2, # how much do you want to shear an image?\n",
        "                                             zoom_range=0.2, # zoom in randomly on an image\n",
        "                                             width_shift_range=0.2, # move your iamge around on the x-axis\n",
        "                                             height_shift_range=0.2, # move your image around on the y-axis\n",
        "                                             horizontal_flip=True) # do you want to flip and image? \n",
        "\n",
        "# Create ImageDataGenerator without data augmentation\n",
        "train_datagen = ImageDataGenerator(rescale=1/255.)\n",
        "\n",
        "# Create ImageDataGenerator without data augmentation for the test dataset\n",
        "test_datagen = ImageDataGenerator(rescale=1/255.)"
      ],
      "execution_count": 91,
      "outputs": []
    },
    {
      "cell_type": "markdown",
      "metadata": {
        "id": "VX_NAJeHfeoA"
      },
      "source": [
        "Data augmentation is the process of altering the training data, leading it to have more diversity and in turn allowing the models to learn more generalizable patterns (in theory). Altering might mean adjusting the rotation of an image, flipping it cropping it or something similar.\n",
        "\n",
        "The next cells visualize this process."
      ]
    },
    {
      "cell_type": "code",
      "metadata": {
        "colab": {
          "base_uri": "https://localhost:8080/"
        },
        "id": "EbIiPR6dfzsz",
        "outputId": "3b8c9dab-871d-4ac2-f44d-b951bfb6fa48"
      },
      "source": [
        "# Import data and augment it from training directory\n",
        "print(\"Augmented training data:\")\n",
        "train_data_augmented = train_datagen_augmented.flow_from_directory(train_dir,\n",
        "                                                                   target_size=(224, 224),\n",
        "                                                                   batch_size=32,\n",
        "                                                                   class_mode=\"binary\",\n",
        "                                                                   shuffle=False) # for demonstration purposes only\n",
        "\n",
        "# Create non-augmented train data batches\n",
        "print(\"Non-augmented training data:\")\n",
        "train_data = train_datagen.flow_from_directory(train_dir,\n",
        "                                               target_size=(224, 224),\n",
        "                                               batch_size=32,\n",
        "                                               class_mode=\"binary\",\n",
        "                                               shuffle=False)\n",
        "\n",
        "IMG_SIZE = (224, 224)\n",
        "# Create non-augmented test data batches\n",
        "print(\"Non-augmented test data:\")\n",
        "test_data = test_datagen.flow_from_directory(test_dir,\n",
        "                                             target_size=IMG_SIZE,\n",
        "                                             batch_size=32,\n",
        "                                             class_mode=\"binary\")"
      ],
      "execution_count": 92,
      "outputs": [
        {
          "output_type": "stream",
          "text": [
            "Augmented training data:\n",
            "Found 1500 images belonging to 2 classes.\n",
            "Non-augmented training data:\n",
            "Found 1500 images belonging to 2 classes.\n",
            "Non-augmented test data:\n",
            "Found 500 images belonging to 2 classes.\n"
          ],
          "name": "stdout"
        }
      ]
    },
    {
      "cell_type": "code",
      "metadata": {
        "id": "dOeFSZJ1gBfn"
      },
      "source": [
        ""
      ],
      "execution_count": 92,
      "outputs": []
    }
  ]
}