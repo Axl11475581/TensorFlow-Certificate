{
  "nbformat": 4,
  "nbformat_minor": 0,
  "metadata": {
    "colab": {
      "name": "1.1 - Exercises.ipynb",
      "provenance": [],
      "collapsed_sections": [],
      "authorship_tag": "ABX9TyNMN1cs0tupytosajyIHSIM",
      "include_colab_link": true
    },
    "kernelspec": {
      "name": "python3",
      "display_name": "Python 3"
    },
    "language_info": {
      "name": "python"
    }
  },
  "cells": [
    {
      "cell_type": "markdown",
      "metadata": {
        "id": "view-in-github",
        "colab_type": "text"
      },
      "source": [
        "<a href=\"https://colab.research.google.com/github/Axl11475581/TensorFlow-Certificate/blob/main/1_1_Exercises.ipynb\" target=\"_parent\"><img src=\"https://colab.research.google.com/assets/colab-badge.svg\" alt=\"Open In Colab\"/></a>"
      ]
    },
    {
      "cell_type": "markdown",
      "metadata": {
        "id": "vHKDTDs4eAyR"
      },
      "source": [
        "## In this notebook the exercises from the **1.0 - N.N/Regression** will be cover."
      ]
    },
    {
      "cell_type": "markdown",
      "metadata": {
        "id": "twVdIb_OePdM"
      },
      "source": [
        "1. Create your own regression dataset (or make the one we created in \"Create data to view and fit\" bigger) and build, fit a model to it"
      ]
    },
    {
      "cell_type": "code",
      "metadata": {
        "colab": {
          "base_uri": "https://localhost:8080/"
        },
        "id": "jMlJadSdelbm",
        "outputId": "09d0a643-f3b4-4aa4-eade-773cf815d06f"
      },
      "source": [
        "# Import libraries\n",
        "import tensorflow as tf\n",
        "import numpy as np\n",
        "import matplotlib.pyplot as plt\n",
        "\n",
        "print(tf.__version__)"
      ],
      "execution_count": 1,
      "outputs": [
        {
          "output_type": "stream",
          "text": [
            "2.5.0\n"
          ],
          "name": "stdout"
        }
      ]
    },
    {
      "cell_type": "code",
      "metadata": {
        "colab": {
          "base_uri": "https://localhost:8080/",
          "height": 265
        },
        "id": "Akek8j_Oe1nM",
        "outputId": "bde46a21-e0de-459a-8785-d081a03e1416"
      },
      "source": [
        "# Features \n",
        "X = np.array([-7.0, -4.0, -1.0, 2.0, 5.0, 8.0, 11.0, 14.0, 17.0, 20.0, 23.0, 26.0, 29.0, 32.0, 35.0, 38.0, 42.0, 45.0, 48.0, 51.0, 54.0, 57.0, 60.0])\n",
        "\n",
        "# Labels\n",
        "y = np.array([3.0, 6.0, 9.0, 12.0, 15.0, 18.0, 21.0, 24.0, 27.0, 30.0, 33.0, 36.0, 39.0, 42.0, 45.0, 48.0, 52.0, 55.0, 58.0, 61.0, 64.0, 67.0, 70.0])\n",
        "\n",
        "# Visualization\n",
        "plt.scatter(X, y);"
      ],
      "execution_count": 2,
      "outputs": [
        {
          "output_type": "display_data",
          "data": {
            "image/png": "[encoded data removed]",
            "text/plain": [
              "<Figure size 432x288 with 1 Axes>"
            ]
          },
          "metadata": {
            "tags": [],
            "needs_background": "light"
          }
        }
      ]
    },
    {
      "cell_type": "code",
      "metadata": {
        "colab": {
          "base_uri": "https://localhost:8080/"
        },
        "id": "6qk6n3RQhHvU",
        "outputId": "a323c3b7-d526-4c18-e950-698274ca8e5a"
      },
      "source": [
        "# Truning the NumPy arrays into tensors\n",
        "X = tf.cast(tf.constant(X), dtype=tf.float32)\n",
        "y = tf.cast(tf.constant(y), dtype=tf.float32)\n",
        "X, y"
      ],
      "execution_count": 3,
      "outputs": [
        {
          "output_type": "execute_result",
          "data": {
            "text/plain": [
              "(<tf.Tensor: shape=(23,), dtype=float32, numpy=\n",
              " array([-7., -4., -1.,  2.,  5.,  8., 11., 14., 17., 20., 23., 26., 29.,\n",
              "        32., 35., 38., 42., 45., 48., 51., 54., 57., 60.], dtype=float32)>,\n",
              " <tf.Tensor: shape=(23,), dtype=float32, numpy=\n",
              " array([ 3.,  6.,  9., 12., 15., 18., 21., 24., 27., 30., 33., 36., 39.,\n",
              "        42., 45., 48., 52., 55., 58., 61., 64., 67., 70.], dtype=float32)>)"
            ]
          },
          "metadata": {
            "tags": []
          },
          "execution_count": 3
        }
      ]
    },
    {
      "cell_type": "markdown",
      "metadata": {
        "id": "LMsOFSg3jOGF"
      },
      "source": [
        "2. Try building a neural network with 4 Dense layers and fitting it to your own regression dataset, how does it perform?"
      ]
    },
    {
      "cell_type": "code",
      "metadata": {
        "id": "b8Tk2_XThZ3a"
      },
      "source": [
        "# Making the model\n",
        "model = tf.keras.Sequential([\n",
        "  tf.keras.layers.Dense(100),\n",
        "  tf.keras.layers.Dense(50),\n",
        "  tf.keras.layers.Dense(10),\n",
        "  tf.keras.layers.Dense(1)\n",
        "])\n",
        "\n",
        "# Compile\n",
        "model.compile(loss=tf.keras.losses.mae, \n",
        "              optimizer=tf.keras.optimizers.Adam(), \n",
        "              metrics=[\"mae\"])\n",
        "\n",
        "# Fit\n",
        "model.fit(X, y, epochs=200)"
      ],
      "execution_count": null,
      "outputs": []
    },
    {
      "cell_type": "code",
      "metadata": {
        "colab": {
          "base_uri": "https://localhost:8080/"
        },
        "id": "vQVRhdiVhvGL",
        "outputId": "0c937d9e-d9f6-45b0-e462-a47f50b4e3c8"
      },
      "source": [
        "# Make a prediction\n",
        "y_pred = model.predict([15.0])\n",
        "y_pred"
      ],
      "execution_count": 10,
      "outputs": [
        {
          "output_type": "execute_result",
          "data": {
            "text/plain": [
              "array([[24.718676]], dtype=float32)"
            ]
          },
          "metadata": {
            "tags": []
          },
          "execution_count": 10
        }
      ]
    },
    {
      "cell_type": "markdown",
      "metadata": {
        "id": "FYt0wItDh4tQ"
      },
      "source": [
        "3. Try and improve the results we got on the insurance dataset, some things you might want to try include:\n",
        "\n",
        "* Building a larger model \n",
        "* Increasing the number of units in each layer.\n",
        "* Lookup the documentation of Adam and find out what the first parameter is, what happens if you increase it by 10x?\n",
        "* What happens if you train for longer? (say 300 epochs instead of 200)"
      ]
    },
    {
      "cell_type": "code",
      "metadata": {
        "id": "g_3643PPkc_9"
      },
      "source": [
        ""
      ],
      "execution_count": null,
      "outputs": []
    }
  ]
}