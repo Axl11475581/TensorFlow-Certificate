{
  "nbformat": 4,
  "nbformat_minor": 0,
  "metadata": {
    "colab": {
      "name": "3.1 - Exercises.ipynb",
      "provenance": [],
      "collapsed_sections": [],
      "authorship_tag": "ABX9TyNzsI2eorrHzA5p/WZvdiYd",
      "include_colab_link": true
    },
    "kernelspec": {
      "name": "python3",
      "display_name": "Python 3"
    },
    "language_info": {
      "name": "python"
    }
  },
  "cells": [
    {
      "cell_type": "markdown",
      "metadata": {
        "id": "view-in-github",
        "colab_type": "text"
      },
      "source": [
        "<a href=\"https://colab.research.google.com/github/Axl11475581/TensorFlow-Certificate/blob/main/3_1_Exercises.ipynb\" target=\"_parent\"><img src=\"https://colab.research.google.com/assets/colab-badge.svg\" alt=\"Open In Colab\"/></a>"
      ]
    },
    {
      "cell_type": "markdown",
      "metadata": {
        "id": "q7rUkMnsw1G0"
      },
      "source": [
        "# In this notebook the exercises from the 3.0 - CNN & Computer Vision will be cover"
      ]
    },
    {
      "cell_type": "markdown",
      "metadata": {
        "id": "YmmG4AjKxINk"
      },
      "source": [
        "III. Take 10 photos of two different things and build your own CNN image classifier using the techniques we've built here."
      ]
    },
    {
      "cell_type": "markdown",
      "metadata": {
        "id": "mD6dwFGSxSzd"
      },
      "source": [
        "IV. Find an ideal learning rate for a simple convolutional neural network model on your 10 class dataset."
      ]
    },
    {
      "cell_type": "code",
      "metadata": {
        "id": "YO11KTPIxjRp"
      },
      "source": [
        ""
      ],
      "execution_count": null,
      "outputs": []
    }
  ]
}