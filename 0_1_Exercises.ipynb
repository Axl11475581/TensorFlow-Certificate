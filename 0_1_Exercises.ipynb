{
  "nbformat": 4,
  "nbformat_minor": 0,
  "metadata": {
    "colab": {
      "name": "0.1 - Exercises.ipynb",
      "provenance": [],
      "collapsed_sections": [],
      "authorship_tag": "ABX9TyMiOQWJ5JYzEBN3AsRiXOxv",
      "include_colab_link": true
    },
    "kernelspec": {
      "name": "python3",
      "display_name": "Python 3"
    },
    "language_info": {
      "name": "python"
    }
  },
  "cells": [
    {
      "cell_type": "markdown",
      "metadata": {
        "id": "view-in-github",
        "colab_type": "text"
      },
      "source": [
        "<a href=\"https://colab.research.google.com/github/Axl11475581/TensorFlow-Certificate/blob/main/0_1_Exercises.ipynb\" target=\"_parent\"><img src=\"https://colab.research.google.com/assets/colab-badge.svg\" alt=\"Open In Colab\"/></a>"
      ]
    },
    {
      "cell_type": "markdown",
      "metadata": {
        "id": "aMIrz0vYAx0q"
      },
      "source": [
        "# In this notebook the exercises from the **0.0 - Fundamentals** will be cover."
      ]
    },
    {
      "cell_type": "markdown",
      "metadata": {
        "id": "_5wh0ac-CSME"
      },
      "source": [
        "1. Create a vector, scalar, matrix and tensor with values of your choosing using `tf.constant()`"
      ]
    },
    {
      "cell_type": "code",
      "metadata": {
        "colab": {
          "base_uri": "https://localhost:8080/"
        },
        "id": "7dr8ZUweCc_A",
        "outputId": "5571bbe0-7aa8-4caa-f3ea-05e16f81a93c"
      },
      "source": [
        "# Import TensorFlow\n",
        "import tensorflow as tf\n",
        "print(tf.__version__)"
      ],
      "execution_count": 1,
      "outputs": [
        {
          "output_type": "stream",
          "text": [
            "2.5.0\n"
          ],
          "name": "stdout"
        }
      ]
    },
    {
      "cell_type": "code",
      "metadata": {
        "colab": {
          "base_uri": "https://localhost:8080/"
        },
        "id": "lvvJItFsCnDQ",
        "outputId": "5668de87-41b9-4958-b910-4c0cf724c5a1"
      },
      "source": [
        "# vector\n",
        "vector = tf.constant([5, 5])\n",
        "vector"
      ],
      "execution_count": 2,
      "outputs": [
        {
          "output_type": "execute_result",
          "data": {
            "text/plain": [
              "<tf.Tensor: shape=(2,), dtype=int32, numpy=array([5, 5], dtype=int32)>"
            ]
          },
          "metadata": {
            "tags": []
          },
          "execution_count": 2
        }
      ]
    },
    {
      "cell_type": "code",
      "metadata": {
        "colab": {
          "base_uri": "https://localhost:8080/"
        },
        "id": "ALGAS0KkDAYx",
        "outputId": "b66cc69a-65a6-44b2-df7e-996365fe5461"
      },
      "source": [
        "# scalar\n",
        "scalar = tf.constant(5)\n",
        "scalar"
      ],
      "execution_count": 3,
      "outputs": [
        {
          "output_type": "execute_result",
          "data": {
            "text/plain": [
              "<tf.Tensor: shape=(), dtype=int32, numpy=5>"
            ]
          },
          "metadata": {
            "tags": []
          },
          "execution_count": 3
        }
      ]
    },
    {
      "cell_type": "code",
      "metadata": {
        "colab": {
          "base_uri": "https://localhost:8080/"
        },
        "id": "hoCdo1NMDE_r",
        "outputId": "fbd6ef07-47d4-44c5-928f-26c44020d049"
      },
      "source": [
        "# matrix\n",
        "matrix = tf.constant([[5, 7],\n",
        "                     [4, 5]])\n",
        "matrix"
      ],
      "execution_count": 4,
      "outputs": [
        {
          "output_type": "execute_result",
          "data": {
            "text/plain": [
              "<tf.Tensor: shape=(2, 2), dtype=int32, numpy=\n",
              "array([[5, 7],\n",
              "       [4, 5]], dtype=int32)>"
            ]
          },
          "metadata": {
            "tags": []
          },
          "execution_count": 4
        }
      ]
    },
    {
      "cell_type": "markdown",
      "metadata": {
        "id": "7WWzSswsDO4T"
      },
      "source": [
        "2. Find the shape, rank and size of the tensor you created in 1."
      ]
    },
    {
      "cell_type": "code",
      "metadata": {
        "colab": {
          "base_uri": "https://localhost:8080/"
        },
        "id": "gZPpjE75DblR",
        "outputId": "3ae7a87a-f9ea-4a6d-c921-1256c133238f"
      },
      "source": [
        "# Vector:\n",
        "\n",
        "# shape:\n",
        "vector.shape\n",
        "\n",
        "# rank:\n",
        "vector.ndim\n",
        "\n",
        "# size:\n",
        "\n",
        "tf.size(vector)\n"
      ],
      "execution_count": 5,
      "outputs": [
        {
          "output_type": "execute_result",
          "data": {
            "text/plain": [
              "<tf.Tensor: shape=(), dtype=int32, numpy=2>"
            ]
          },
          "metadata": {
            "tags": []
          },
          "execution_count": 5
        }
      ]
    },
    {
      "cell_type": "code",
      "metadata": {
        "colab": {
          "base_uri": "https://localhost:8080/"
        },
        "id": "o0SA_FdOZYM9",
        "outputId": "e9d80105-4410-42fe-e49a-1cf503aa6b4b"
      },
      "source": [
        "# Scalar:\n",
        "\n",
        "# shape: \n",
        "scalar.shape\n",
        "\n",
        "# rank:\n",
        "scalar.ndim\n",
        "\n",
        "# size:\n",
        "tf.size(scalar)"
      ],
      "execution_count": 6,
      "outputs": [
        {
          "output_type": "execute_result",
          "data": {
            "text/plain": [
              "<tf.Tensor: shape=(), dtype=int32, numpy=1>"
            ]
          },
          "metadata": {
            "tags": []
          },
          "execution_count": 6
        }
      ]
    },
    {
      "cell_type": "code",
      "metadata": {
        "colab": {
          "base_uri": "https://localhost:8080/"
        },
        "id": "3kPA_1_kZoLx",
        "outputId": "5cdb318b-4138-40b7-a0d6-7eae9ed3eb14"
      },
      "source": [
        "# Matrix:\n",
        "\n",
        "# shape:\n",
        "matrix.shape\n",
        "\n",
        "# rank:\n",
        "matrix.ndim\n",
        "\n",
        "# size:\n",
        "tf.size(matrix)"
      ],
      "execution_count": 7,
      "outputs": [
        {
          "output_type": "execute_result",
          "data": {
            "text/plain": [
              "<tf.Tensor: shape=(), dtype=int32, numpy=4>"
            ]
          },
          "metadata": {
            "tags": []
          },
          "execution_count": 7
        }
      ]
    },
    {
      "cell_type": "code",
      "metadata": {
        "id": "9E40zrD0Zwj_"
      },
      "source": [
        ""
      ],
      "execution_count": null,
      "outputs": []
    }
  ]
}