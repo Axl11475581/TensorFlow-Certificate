{
  "nbformat": 4,
  "nbformat_minor": 0,
  "metadata": {
    "colab": {
      "name": "0.1 - Exercises.ipynb",
      "provenance": [],
      "collapsed_sections": [],
      "authorship_tag": "ABX9TyM2y9OEcl8NxFJdCw8u3V4d",
      "include_colab_link": true
    },
    "kernelspec": {
      "name": "python3",
      "display_name": "Python 3"
    },
    "language_info": {
      "name": "python"
    }
  },
  "cells": [
    {
      "cell_type": "markdown",
      "metadata": {
        "id": "view-in-github",
        "colab_type": "text"
      },
      "source": [
        "<a href=\"https://colab.research.google.com/github/Axl11475581/TensorFlow-Certificate/blob/main/0_1_Exercises.ipynb\" target=\"_parent\"><img src=\"https://colab.research.google.com/assets/colab-badge.svg\" alt=\"Open In Colab\"/></a>"
      ]
    },
    {
      "cell_type": "markdown",
      "metadata": {
        "id": "aMIrz0vYAx0q"
      },
      "source": [
        "# In this notebook the exercises from the **0.0 - Fundamentals** will be cover."
      ]
    },
    {
      "cell_type": "markdown",
      "metadata": {
        "id": "_5wh0ac-CSME"
      },
      "source": [
        "1. Create a vector, scalar, matrix and tensor with values of your choosing using `tf.constant()`"
      ]
    },
    {
      "cell_type": "code",
      "metadata": {
        "colab": {
          "base_uri": "https://localhost:8080/"
        },
        "id": "7dr8ZUweCc_A",
        "outputId": "5571bbe0-7aa8-4caa-f3ea-05e16f81a93c"
      },
      "source": [
        "# Import TensorFlow\n",
        "import tensorflow as tf\n",
        "print(tf.__version__)"
      ],
      "execution_count": 1,
      "outputs": [
        {
          "output_type": "stream",
          "text": [
            "2.5.0\n"
          ],
          "name": "stdout"
        }
      ]
    },
    {
      "cell_type": "code",
      "metadata": {
        "colab": {
          "base_uri": "https://localhost:8080/"
        },
        "id": "lvvJItFsCnDQ",
        "outputId": "5668de87-41b9-4958-b910-4c0cf724c5a1"
      },
      "source": [
        "# vector\n",
        "vector = tf.constant([5, 5])\n",
        "vector"
      ],
      "execution_count": 2,
      "outputs": [
        {
          "output_type": "execute_result",
          "data": {
            "text/plain": [
              "<tf.Tensor: shape=(2,), dtype=int32, numpy=array([5, 5], dtype=int32)>"
            ]
          },
          "metadata": {
            "tags": []
          },
          "execution_count": 2
        }
      ]
    },
    {
      "cell_type": "code",
      "metadata": {
        "colab": {
          "base_uri": "https://localhost:8080/"
        },
        "id": "ALGAS0KkDAYx",
        "outputId": "b66cc69a-65a6-44b2-df7e-996365fe5461"
      },
      "source": [
        "# scalar\n",
        "scalar = tf.constant(5)\n",
        "scalar"
      ],
      "execution_count": 3,
      "outputs": [
        {
          "output_type": "execute_result",
          "data": {
            "text/plain": [
              "<tf.Tensor: shape=(), dtype=int32, numpy=5>"
            ]
          },
          "metadata": {
            "tags": []
          },
          "execution_count": 3
        }
      ]
    },
    {
      "cell_type": "code",
      "metadata": {
        "colab": {
          "base_uri": "https://localhost:8080/"
        },
        "id": "hoCdo1NMDE_r",
        "outputId": "fbd6ef07-47d4-44c5-928f-26c44020d049"
      },
      "source": [
        "# matrix\n",
        "matrix = tf.constant([[5, 7],\n",
        "                     [4, 5]])\n",
        "matrix"
      ],
      "execution_count": 4,
      "outputs": [
        {
          "output_type": "execute_result",
          "data": {
            "text/plain": [
              "<tf.Tensor: shape=(2, 2), dtype=int32, numpy=\n",
              "array([[5, 7],\n",
              "       [4, 5]], dtype=int32)>"
            ]
          },
          "metadata": {
            "tags": []
          },
          "execution_count": 4
        }
      ]
    },
    {
      "cell_type": "markdown",
      "metadata": {
        "id": "7WWzSswsDO4T"
      },
      "source": [
        "2. Find the shape, rank and size of the tensor you created in 1."
      ]
    },
    {
      "cell_type": "code",
      "metadata": {
        "colab": {
          "base_uri": "https://localhost:8080/"
        },
        "id": "gZPpjE75DblR",
        "outputId": "3ae7a87a-f9ea-4a6d-c921-1256c133238f"
      },
      "source": [
        "# Vector:\n",
        "\n",
        "# shape:\n",
        "vector.shape\n",
        "\n",
        "# rank:\n",
        "vector.ndim\n",
        "\n",
        "# size:\n",
        "tf.size(vector)"
      ],
      "execution_count": 5,
      "outputs": [
        {
          "output_type": "execute_result",
          "data": {
            "text/plain": [
              "<tf.Tensor: shape=(), dtype=int32, numpy=2>"
            ]
          },
          "metadata": {
            "tags": []
          },
          "execution_count": 5
        }
      ]
    },
    {
      "cell_type": "code",
      "metadata": {
        "colab": {
          "base_uri": "https://localhost:8080/"
        },
        "id": "o0SA_FdOZYM9",
        "outputId": "e9d80105-4410-42fe-e49a-1cf503aa6b4b"
      },
      "source": [
        "# Scalar:\n",
        "\n",
        "# shape: \n",
        "scalar.shape\n",
        "\n",
        "# rank:\n",
        "scalar.ndim\n",
        "\n",
        "# size:\n",
        "tf.size(scalar)"
      ],
      "execution_count": 6,
      "outputs": [
        {
          "output_type": "execute_result",
          "data": {
            "text/plain": [
              "<tf.Tensor: shape=(), dtype=int32, numpy=1>"
            ]
          },
          "metadata": {
            "tags": []
          },
          "execution_count": 6
        }
      ]
    },
    {
      "cell_type": "code",
      "metadata": {
        "colab": {
          "base_uri": "https://localhost:8080/"
        },
        "id": "3kPA_1_kZoLx",
        "outputId": "5cdb318b-4138-40b7-a0d6-7eae9ed3eb14"
      },
      "source": [
        "# Matrix:\n",
        "\n",
        "# shape:\n",
        "matrix.shape\n",
        "\n",
        "# rank:\n",
        "matrix.ndim\n",
        "\n",
        "# size:\n",
        "tf.size(matrix)"
      ],
      "execution_count": 7,
      "outputs": [
        {
          "output_type": "execute_result",
          "data": {
            "text/plain": [
              "<tf.Tensor: shape=(), dtype=int32, numpy=4>"
            ]
          },
          "metadata": {
            "tags": []
          },
          "execution_count": 7
        }
      ]
    },
    {
      "cell_type": "markdown",
      "metadata": {
        "id": "9E40zrD0Zwj_"
      },
      "source": [
        "3. Create two tensor containing random values between 0 and 1 with shape [5, 300]"
      ]
    },
    {
      "cell_type": "code",
      "metadata": {
        "colab": {
          "base_uri": "https://localhost:8080/"
        },
        "id": "skxdPRbDZ-7F",
        "outputId": "68a804fb-150e-42d0-f3a7-c838b66a2186"
      },
      "source": [
        "tensor_1 = tf.random.uniform(shape=[5, 300], minval=0, maxval=1)\n",
        "tensor_1"
      ],
      "execution_count": 9,
      "outputs": [
        {
          "output_type": "execute_result",
          "data": {
            "text/plain": [
              "<tf.Tensor: shape=(5, 300), dtype=float32, numpy=\n",
              "array([[0.725834  , 0.7144027 , 0.7009554 , ..., 0.7541951 , 0.5942961 ,\n",
              "        0.6161767 ],\n",
              "       [0.10624433, 0.9182825 , 0.3053527 , ..., 0.83197653, 0.6211585 ,\n",
              "        0.7405844 ],\n",
              "       [0.87477076, 0.48703992, 0.6091914 , ..., 0.6536323 , 0.70136416,\n",
              "        0.61156464],\n",
              "       [0.2970872 , 0.854797  , 0.37588418, ..., 0.25407135, 0.9595425 ,\n",
              "        0.9783243 ],\n",
              "       [0.2558726 , 0.46905243, 0.39957023, ..., 0.9870672 , 0.8249458 ,\n",
              "        0.3297552 ]], dtype=float32)>"
            ]
          },
          "metadata": {
            "tags": []
          },
          "execution_count": 9
        }
      ]
    },
    {
      "cell_type": "code",
      "metadata": {
        "colab": {
          "base_uri": "https://localhost:8080/"
        },
        "id": "ngYczrwAbHld",
        "outputId": "c660b81e-6e56-4c0b-f32b-5d43718fd343"
      },
      "source": [
        "tensor_2 = tf.random.uniform(shape=[5, 300], minval=0, maxval=1)\n",
        "tensor_2"
      ],
      "execution_count": 11,
      "outputs": [
        {
          "output_type": "execute_result",
          "data": {
            "text/plain": [
              "<tf.Tensor: shape=(5, 300), dtype=float32, numpy=\n",
              "array([[0.70492685, 0.59165525, 0.9984342 , ..., 0.82377195, 0.50674176,\n",
              "        0.2056905 ],\n",
              "       [0.7274715 , 0.58019364, 0.0781678 , ..., 0.8165554 , 0.81640613,\n",
              "        0.7101613 ],\n",
              "       [0.5995698 , 0.5434029 , 0.660071  , ..., 0.92204845, 0.63784325,\n",
              "        0.30433464],\n",
              "       [0.98738813, 0.32114148, 0.34647787, ..., 0.362908  , 0.11932373,\n",
              "        0.1422894 ],\n",
              "       [0.21746552, 0.07633471, 0.8544364 , ..., 0.42927635, 0.35266197,\n",
              "        0.4993781 ]], dtype=float32)>"
            ]
          },
          "metadata": {
            "tags": []
          },
          "execution_count": 11
        }
      ]
    },
    {
      "cell_type": "markdown",
      "metadata": {
        "id": "_hP9cNfpbPx0"
      },
      "source": [
        "4. Multiply the two tensors you created in 3 using matrix multiplication."
      ]
    },
    {
      "cell_type": "code",
      "metadata": {
        "colab": {
          "base_uri": "https://localhost:8080/"
        },
        "id": "eg-WKyBpbXKq",
        "outputId": "5b7653f4-df88-4379-d8dc-c56eca6242a2"
      },
      "source": [
        "# change the shape of tensor_2 to match the rules of matrix multiplication\n",
        "tensor_1 @ tf.reshape(tensor_2, shape=(300, 5))"
      ],
      "execution_count": 12,
      "outputs": [
        {
          "output_type": "execute_result",
          "data": {
            "text/plain": [
              "<tf.Tensor: shape=(5, 5), dtype=float32, numpy=\n",
              "array([[79.92303 , 73.27257 , 70.05194 , 75.84441 , 72.18917 ],\n",
              "       [78.17239 , 75.457596, 74.532166, 79.54445 , 78.01886 ],\n",
              "       [81.70579 , 80.546555, 78.92348 , 85.536606, 83.959915],\n",
              "       [73.7735  , 73.531204, 71.62265 , 76.188644, 73.38219 ],\n",
              "       [76.32632 , 75.52974 , 73.93538 , 79.377396, 76.60255 ]],\n",
              "      dtype=float32)>"
            ]
          },
          "metadata": {
            "tags": []
          },
          "execution_count": 12
        }
      ]
    },
    {
      "cell_type": "code",
      "metadata": {
        "id": "gbt9NtvvcNZ9"
      },
      "source": [
        ""
      ],
      "execution_count": null,
      "outputs": []
    }
  ]
}