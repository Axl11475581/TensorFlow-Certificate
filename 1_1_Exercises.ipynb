{
  "nbformat": 4,
  "nbformat_minor": 0,
  "metadata": {
    "colab": {
      "name": "1.1 - Exercises.ipynb",
      "provenance": [],
      "collapsed_sections": [],
      "authorship_tag": "ABX9TyPRS/W5eIrm/12j0TkbRxW3",
      "include_colab_link": true
    },
    "kernelspec": {
      "name": "python3",
      "display_name": "Python 3"
    },
    "language_info": {
      "name": "python"
    }
  },
  "cells": [
    {
      "cell_type": "markdown",
      "metadata": {
        "id": "view-in-github",
        "colab_type": "text"
      },
      "source": [
        "<a href=\"https://colab.research.google.com/github/Axl11475581/TensorFlow-Certificate/blob/main/1_1_Exercises.ipynb\" target=\"_parent\"><img src=\"https://colab.research.google.com/assets/colab-badge.svg\" alt=\"Open In Colab\"/></a>"
      ]
    },
    {
      "cell_type": "markdown",
      "metadata": {
        "id": "vHKDTDs4eAyR"
      },
      "source": [
        "## In this notebook the exercises from the **1.0 - N.N/Regression** will be cover."
      ]
    },
    {
      "cell_type": "markdown",
      "metadata": {
        "id": "twVdIb_OePdM"
      },
      "source": [
        "1. Create your own regression dataset (or make the one we created in \"Create data to view and fit\" bigger) and build, fit a model to it"
      ]
    },
    {
      "cell_type": "code",
      "metadata": {
        "colab": {
          "base_uri": "https://localhost:8080/"
        },
        "id": "jMlJadSdelbm",
        "outputId": "09d0a643-f3b4-4aa4-eade-773cf815d06f"
      },
      "source": [
        "# Import libraries\n",
        "import tensorflow as tf\n",
        "import numpy as np\n",
        "import matplotlib.pyplot as plt\n",
        "\n",
        "print(tf.__version__)"
      ],
      "execution_count": 1,
      "outputs": [
        {
          "output_type": "stream",
          "text": [
            "2.5.0\n"
          ],
          "name": "stdout"
        }
      ]
    },
    {
      "cell_type": "code",
      "metadata": {
        "colab": {
          "base_uri": "https://localhost:8080/",
          "height": 265
        },
        "id": "Akek8j_Oe1nM",
        "outputId": "bde46a21-e0de-459a-8785-d081a03e1416"
      },
      "source": [
        "# Features \n",
        "X = np.array([-7.0, -4.0, -1.0, 2.0, 5.0, 8.0, 11.0, 14.0, 17.0, 20.0, 23.0, 26.0, 29.0, 32.0, 35.0, 38.0, 42.0, 45.0, 48.0, 51.0, 54.0, 57.0, 60.0])\n",
        "\n",
        "# Labels\n",
        "y = np.array([3.0, 6.0, 9.0, 12.0, 15.0, 18.0, 21.0, 24.0, 27.0, 30.0, 33.0, 36.0, 39.0, 42.0, 45.0, 48.0, 52.0, 55.0, 58.0, 61.0, 64.0, 67.0, 70.0])\n",
        "\n",
        "# Visualization\n",
        "plt.scatter(X, y);"
      ],
      "execution_count": 2,
      "outputs": [
        {
          "output_type": "display_data",
          "data": {
            "image/png": "[encoded data removed]",
            "text/plain": [
              "<Figure size 432x288 with 1 Axes>"
            ]
          },
          "metadata": {
            "tags": [],
            "needs_background": "light"
          }
        }
      ]
    },
    {
      "cell_type": "code",
      "metadata": {
        "colab": {
          "base_uri": "https://localhost:8080/"
        },
        "id": "6qk6n3RQhHvU",
        "outputId": "a323c3b7-d526-4c18-e950-698274ca8e5a"
      },
      "source": [
        "# Truning the NumPy arrays into tensors\n",
        "X = tf.cast(tf.constant(X), dtype=tf.float32)\n",
        "y = tf.cast(tf.constant(y), dtype=tf.float32)\n",
        "X, y"
      ],
      "execution_count": 3,
      "outputs": [
        {
          "output_type": "execute_result",
          "data": {
            "text/plain": [
              "(<tf.Tensor: shape=(23,), dtype=float32, numpy=\n",
              " array([-7., -4., -1.,  2.,  5.,  8., 11., 14., 17., 20., 23., 26., 29.,\n",
              "        32., 35., 38., 42., 45., 48., 51., 54., 57., 60.], dtype=float32)>,\n",
              " <tf.Tensor: shape=(23,), dtype=float32, numpy=\n",
              " array([ 3.,  6.,  9., 12., 15., 18., 21., 24., 27., 30., 33., 36., 39.,\n",
              "        42., 45., 48., 52., 55., 58., 61., 64., 67., 70.], dtype=float32)>)"
            ]
          },
          "metadata": {
            "tags": []
          },
          "execution_count": 3
        }
      ]
    },
    {
      "cell_type": "code",
      "metadata": {
        "colab": {
          "base_uri": "https://localhost:8080/"
        },
        "id": "b8Tk2_XThZ3a",
        "outputId": "b02140b1-fb20-4805-f26e-7b6bc02af474"
      },
      "source": [
        "# Making the model\n",
        "model = tf.keras.Sequential([\n",
        "  tf.keras.layers.Dense(100),\n",
        "  tf.keras.layers.Dense(1)\n",
        "])\n",
        "\n",
        "# Compile\n",
        "model.compile(loss=tf.keras.losses.mae, \n",
        "              optimizer=tf.keras.optimizers.Adam(), \n",
        "              metrics=[\"mae\"])\n",
        "\n",
        "# Fit\n",
        "model.fit(X, y, epochs=100)"
      ],
      "execution_count": 4,
      "outputs": [
        {
          "output_type": "stream",
          "text": [
            "Epoch 1/100\n",
            "1/1 [==============================] - 1s 648ms/step - loss: 39.9672 - mae: 39.9672\n",
            "Epoch 2/100\n",
            "1/1 [==============================] - 0s 5ms/step - loss: 39.2962 - mae: 39.2962\n",
            "Epoch 3/100\n",
            "1/1 [==============================] - 0s 7ms/step - loss: 38.6256 - mae: 38.6256\n",
            "Epoch 4/100\n",
            "1/1 [==============================] - 0s 7ms/step - loss: 37.9555 - mae: 37.9555\n",
            "Epoch 5/100\n",
            "1/1 [==============================] - 0s 10ms/step - loss: 37.2859 - mae: 37.2859\n",
            "Epoch 6/100\n",
            "1/1 [==============================] - 0s 6ms/step - loss: 36.6167 - mae: 36.6167\n",
            "Epoch 7/100\n",
            "1/1 [==============================] - 0s 8ms/step - loss: 35.9478 - mae: 35.9478\n",
            "Epoch 8/100\n",
            "1/1 [==============================] - 0s 6ms/step - loss: 35.2793 - mae: 35.2793\n",
            "Epoch 9/100\n",
            "1/1 [==============================] - 0s 9ms/step - loss: 34.6111 - mae: 34.6111\n",
            "Epoch 10/100\n",
            "1/1 [==============================] - 0s 6ms/step - loss: 33.9431 - mae: 33.9431\n",
            "Epoch 11/100\n",
            "1/1 [==============================] - 0s 10ms/step - loss: 33.2753 - mae: 33.2753\n",
            "Epoch 12/100\n",
            "1/1 [==============================] - 0s 4ms/step - loss: 32.6075 - mae: 32.6075\n",
            "Epoch 13/100\n",
            "1/1 [==============================] - 0s 4ms/step - loss: 31.9398 - mae: 31.9398\n",
            "Epoch 14/100\n",
            "1/1 [==============================] - 0s 4ms/step - loss: 31.2720 - mae: 31.2720\n",
            "Epoch 15/100\n",
            "1/1 [==============================] - 0s 13ms/step - loss: 30.6042 - mae: 30.6042\n",
            "Epoch 16/100\n",
            "1/1 [==============================] - 0s 10ms/step - loss: 29.9362 - mae: 29.9362\n",
            "Epoch 17/100\n",
            "1/1 [==============================] - 0s 10ms/step - loss: 29.2679 - mae: 29.2679\n",
            "Epoch 18/100\n",
            "1/1 [==============================] - 0s 20ms/step - loss: 28.5994 - mae: 28.5994\n",
            "Epoch 19/100\n",
            "1/1 [==============================] - 0s 6ms/step - loss: 27.9304 - mae: 27.9304\n",
            "Epoch 20/100\n",
            "1/1 [==============================] - 0s 9ms/step - loss: 27.2611 - mae: 27.2611\n",
            "Epoch 21/100\n",
            "1/1 [==============================] - 0s 6ms/step - loss: 26.5912 - mae: 26.5912\n",
            "Epoch 22/100\n",
            "1/1 [==============================] - 0s 7ms/step - loss: 25.9207 - mae: 25.9207\n",
            "Epoch 23/100\n",
            "1/1 [==============================] - 0s 15ms/step - loss: 25.2496 - mae: 25.2496\n",
            "Epoch 24/100\n",
            "1/1 [==============================] - 0s 12ms/step - loss: 24.5776 - mae: 24.5776\n",
            "Epoch 25/100\n",
            "1/1 [==============================] - 0s 5ms/step - loss: 23.9049 - mae: 23.9049\n",
            "Epoch 26/100\n",
            "1/1 [==============================] - 0s 7ms/step - loss: 23.2312 - mae: 23.2312\n",
            "Epoch 27/100\n",
            "1/1 [==============================] - 0s 6ms/step - loss: 22.5565 - mae: 22.5565\n",
            "Epoch 28/100\n",
            "1/1 [==============================] - 0s 8ms/step - loss: 21.8807 - mae: 21.8807\n",
            "Epoch 29/100\n",
            "1/1 [==============================] - 0s 6ms/step - loss: 21.2037 - mae: 21.2037\n",
            "Epoch 30/100\n",
            "1/1 [==============================] - 0s 8ms/step - loss: 20.5254 - mae: 20.5254\n",
            "Epoch 31/100\n",
            "1/1 [==============================] - 0s 9ms/step - loss: 19.8458 - mae: 19.8458\n",
            "Epoch 32/100\n",
            "1/1 [==============================] - 0s 6ms/step - loss: 19.1647 - mae: 19.1647\n",
            "Epoch 33/100\n",
            "1/1 [==============================] - 0s 7ms/step - loss: 18.4821 - mae: 18.4821\n",
            "Epoch 34/100\n",
            "1/1 [==============================] - 0s 7ms/step - loss: 17.7978 - mae: 17.7978\n",
            "Epoch 35/100\n",
            "1/1 [==============================] - 0s 6ms/step - loss: 17.1118 - mae: 17.1118\n",
            "Epoch 36/100\n",
            "1/1 [==============================] - 0s 7ms/step - loss: 16.4240 - mae: 16.4240\n",
            "Epoch 37/100\n",
            "1/1 [==============================] - 0s 5ms/step - loss: 15.7343 - mae: 15.7343\n",
            "Epoch 38/100\n",
            "1/1 [==============================] - 0s 7ms/step - loss: 15.0426 - mae: 15.0426\n",
            "Epoch 39/100\n",
            "1/1 [==============================] - 0s 6ms/step - loss: 14.3488 - mae: 14.3488\n",
            "Epoch 40/100\n",
            "1/1 [==============================] - 0s 5ms/step - loss: 13.6528 - mae: 13.6528\n",
            "Epoch 41/100\n",
            "1/1 [==============================] - 0s 5ms/step - loss: 12.9545 - mae: 12.9545\n",
            "Epoch 42/100\n",
            "1/1 [==============================] - 0s 7ms/step - loss: 12.2538 - mae: 12.2538\n",
            "Epoch 43/100\n",
            "1/1 [==============================] - 0s 7ms/step - loss: 11.5507 - mae: 11.5507\n",
            "Epoch 44/100\n",
            "1/1 [==============================] - 0s 6ms/step - loss: 10.8450 - mae: 10.8450\n",
            "Epoch 45/100\n",
            "1/1 [==============================] - 0s 7ms/step - loss: 10.1367 - mae: 10.1367\n",
            "Epoch 46/100\n",
            "1/1 [==============================] - 0s 9ms/step - loss: 9.4257 - mae: 9.4257\n",
            "Epoch 47/100\n",
            "1/1 [==============================] - 0s 10ms/step - loss: 8.7118 - mae: 8.7118\n",
            "Epoch 48/100\n",
            "1/1 [==============================] - 0s 6ms/step - loss: 7.9950 - mae: 7.9950\n",
            "Epoch 49/100\n",
            "1/1 [==============================] - 0s 6ms/step - loss: 7.2752 - mae: 7.2752\n",
            "Epoch 50/100\n",
            "1/1 [==============================] - 0s 7ms/step - loss: 6.5523 - mae: 6.5523\n",
            "Epoch 51/100\n",
            "1/1 [==============================] - 0s 7ms/step - loss: 5.8263 - mae: 5.8263\n",
            "Epoch 52/100\n",
            "1/1 [==============================] - 0s 6ms/step - loss: 5.1140 - mae: 5.1140\n",
            "Epoch 53/100\n",
            "1/1 [==============================] - 0s 7ms/step - loss: 4.7210 - mae: 4.7210\n",
            "Epoch 54/100\n",
            "1/1 [==============================] - 0s 6ms/step - loss: 4.6251 - mae: 4.6251\n",
            "Epoch 55/100\n",
            "1/1 [==============================] - 0s 8ms/step - loss: 4.6906 - mae: 4.6906\n",
            "Epoch 56/100\n",
            "1/1 [==============================] - 0s 5ms/step - loss: 4.8162 - mae: 4.8162\n",
            "Epoch 57/100\n",
            "1/1 [==============================] - 0s 6ms/step - loss: 4.9767 - mae: 4.9767\n",
            "Epoch 58/100\n",
            "1/1 [==============================] - 0s 7ms/step - loss: 5.1353 - mae: 5.1353\n",
            "Epoch 59/100\n",
            "1/1 [==============================] - 0s 6ms/step - loss: 5.2948 - mae: 5.2948\n",
            "Epoch 60/100\n",
            "1/1 [==============================] - 0s 6ms/step - loss: 5.4202 - mae: 5.4202\n",
            "Epoch 61/100\n",
            "1/1 [==============================] - 0s 7ms/step - loss: 5.5110 - mae: 5.5110\n",
            "Epoch 62/100\n",
            "1/1 [==============================] - 0s 5ms/step - loss: 5.5764 - mae: 5.5764\n",
            "Epoch 63/100\n",
            "1/1 [==============================] - 0s 8ms/step - loss: 5.6081 - mae: 5.6081\n",
            "Epoch 64/100\n",
            "1/1 [==============================] - 0s 7ms/step - loss: 5.6046 - mae: 5.6046\n",
            "Epoch 65/100\n",
            "1/1 [==============================] - 0s 7ms/step - loss: 5.5690 - mae: 5.5690\n",
            "Epoch 66/100\n",
            "1/1 [==============================] - 0s 9ms/step - loss: 5.5066 - mae: 5.5066\n",
            "Epoch 67/100\n",
            "1/1 [==============================] - 0s 6ms/step - loss: 5.4337 - mae: 5.4337\n",
            "Epoch 68/100\n",
            "1/1 [==============================] - 0s 6ms/step - loss: 5.3446 - mae: 5.3446\n",
            "Epoch 69/100\n",
            "1/1 [==============================] - 0s 6ms/step - loss: 5.2409 - mae: 5.2409\n",
            "Epoch 70/100\n",
            "1/1 [==============================] - 0s 6ms/step - loss: 5.1240 - mae: 5.1240\n",
            "Epoch 71/100\n",
            "1/1 [==============================] - 0s 7ms/step - loss: 5.0160 - mae: 5.0160\n",
            "Epoch 72/100\n",
            "1/1 [==============================] - 0s 8ms/step - loss: 4.9077 - mae: 4.9077\n",
            "Epoch 73/100\n",
            "1/1 [==============================] - 0s 5ms/step - loss: 4.8035 - mae: 4.8035\n",
            "Epoch 74/100\n",
            "1/1 [==============================] - 0s 11ms/step - loss: 4.7210 - mae: 4.7210\n",
            "Epoch 75/100\n",
            "1/1 [==============================] - 0s 14ms/step - loss: 4.6466 - mae: 4.6466\n",
            "Epoch 76/100\n",
            "1/1 [==============================] - 0s 9ms/step - loss: 4.5989 - mae: 4.5989\n",
            "Epoch 77/100\n",
            "1/1 [==============================] - 0s 6ms/step - loss: 4.5527 - mae: 4.5527\n",
            "Epoch 78/100\n",
            "1/1 [==============================] - 0s 9ms/step - loss: 4.5358 - mae: 4.5358\n",
            "Epoch 79/100\n",
            "1/1 [==============================] - 0s 9ms/step - loss: 4.5300 - mae: 4.5300\n",
            "Epoch 80/100\n",
            "1/1 [==============================] - 0s 14ms/step - loss: 4.5470 - mae: 4.5470\n",
            "Epoch 81/100\n",
            "1/1 [==============================] - 0s 14ms/step - loss: 4.5689 - mae: 4.5689\n",
            "Epoch 82/100\n",
            "1/1 [==============================] - 0s 11ms/step - loss: 4.5968 - mae: 4.5968\n",
            "Epoch 83/100\n",
            "1/1 [==============================] - 0s 5ms/step - loss: 4.6149 - mae: 4.6149\n",
            "Epoch 84/100\n",
            "1/1 [==============================] - 0s 7ms/step - loss: 4.6266 - mae: 4.6266\n",
            "Epoch 85/100\n",
            "1/1 [==============================] - 0s 7ms/step - loss: 4.6248 - mae: 4.6248\n",
            "Epoch 86/100\n",
            "1/1 [==============================] - 0s 15ms/step - loss: 4.6073 - mae: 4.6073\n",
            "Epoch 87/100\n",
            "1/1 [==============================] - 0s 8ms/step - loss: 4.5875 - mae: 4.5875\n",
            "Epoch 88/100\n",
            "1/1 [==============================] - 0s 15ms/step - loss: 4.5624 - mae: 4.5624\n",
            "Epoch 89/100\n",
            "1/1 [==============================] - 0s 9ms/step - loss: 4.5323 - mae: 4.5323\n",
            "Epoch 90/100\n",
            "1/1 [==============================] - 0s 7ms/step - loss: 4.5061 - mae: 4.5061\n",
            "Epoch 91/100\n",
            "1/1 [==============================] - 0s 6ms/step - loss: 4.4887 - mae: 4.4887\n",
            "Epoch 92/100\n",
            "1/1 [==============================] - 0s 7ms/step - loss: 4.4711 - mae: 4.4711\n",
            "Epoch 93/100\n",
            "1/1 [==============================] - 0s 6ms/step - loss: 4.4619 - mae: 4.4619\n",
            "Epoch 94/100\n",
            "1/1 [==============================] - 0s 5ms/step - loss: 4.4602 - mae: 4.4602\n",
            "Epoch 95/100\n",
            "1/1 [==============================] - 0s 7ms/step - loss: 4.4580 - mae: 4.4580\n",
            "Epoch 96/100\n",
            "1/1 [==============================] - 0s 6ms/step - loss: 4.4555 - mae: 4.4555\n",
            "Epoch 97/100\n",
            "1/1 [==============================] - 0s 7ms/step - loss: 4.4533 - mae: 4.4533\n",
            "Epoch 98/100\n",
            "1/1 [==============================] - 0s 7ms/step - loss: 4.4553 - mae: 4.4553\n",
            "Epoch 99/100\n",
            "1/1 [==============================] - 0s 8ms/step - loss: 4.4538 - mae: 4.4538\n",
            "Epoch 100/100\n",
            "1/1 [==============================] - 0s 4ms/step - loss: 4.4491 - mae: 4.4491\n"
          ],
          "name": "stdout"
        },
        {
          "output_type": "execute_result",
          "data": {
            "text/plain": [
              "<tensorflow.python.keras.callbacks.History at 0x7f1df5053510>"
            ]
          },
          "metadata": {
            "tags": []
          },
          "execution_count": 4
        }
      ]
    },
    {
      "cell_type": "code",
      "metadata": {
        "colab": {
          "base_uri": "https://localhost:8080/"
        },
        "id": "vQVRhdiVhvGL",
        "outputId": "cfe342bf-f879-4c67-e734-6288e10c34dd"
      },
      "source": [
        "# Make a prediction\n",
        "y_pred = model.predict([15.0])\n",
        "y_pred"
      ],
      "execution_count": 5,
      "outputs": [
        {
          "output_type": "execute_result",
          "data": {
            "text/plain": [
              "array([[19.37941]], dtype=float32)"
            ]
          },
          "metadata": {
            "tags": []
          },
          "execution_count": 5
        }
      ]
    },
    {
      "cell_type": "code",
      "metadata": {
        "id": "FYt0wItDh4tQ"
      },
      "source": [
        ""
      ],
      "execution_count": null,
      "outputs": []
    }
  ]
}